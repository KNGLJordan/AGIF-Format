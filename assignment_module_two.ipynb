{
  "cells": [
    {
      "cell_type": "markdown",
      "id": "d41535fd",
      "metadata": {
        "id": "d41535fd"
      },
      "source": [
        "# Assignment Module 2: Pet Classification\n",
        "\n",
        "The goal of this assignment is to implement a neural network that classifies images of 37 breeds of cats and dogs from the [Oxford-IIIT-Pet dataset](https://www.robots.ox.ac.uk/~vgg/data/pets/). The assignment is divided into two parts: first, you will be asked to implement from scratch your own neural network for image classification; then, you will fine-tune a pretrained network provided by PyTorch."
      ]
    },
    {
      "cell_type": "markdown",
      "id": "b1476550",
      "metadata": {
        "id": "b1476550"
      },
      "source": [
        "## Dataset\n",
        "\n",
        "The following cells contain the code to download and access the dataset you will be using in this assignment. Note that, although this dataset features each and every image from [Oxford-IIIT-Pet](https://www.robots.ox.ac.uk/~vgg/data/pets/), it uses a different train-val-test split than the original authors."
      ]
    },
    {
      "cell_type": "code",
      "execution_count": 26,
      "id": "91101a0d",
      "metadata": {
        "id": "91101a0d",
        "outputId": "a122c6e4-0969-4afa-84f0-48317c7a4d2e",
        "colab": {
          "base_uri": "https://localhost:8080/"
        }
      },
      "outputs": [
        {
          "output_type": "stream",
          "name": "stdout",
          "text": [
            "fatal: destination path 'ipcv-assignment-2' already exists and is not an empty directory.\n"
          ]
        }
      ],
      "source": [
        "!git clone https://github.com/CVLAB-Unibo/ipcv-assignment-2.git"
      ]
    },
    {
      "cell_type": "code",
      "execution_count": 27,
      "id": "0d8fb0d2",
      "metadata": {
        "id": "0d8fb0d2"
      },
      "outputs": [],
      "source": [
        "from pathlib import Path\n",
        "from PIL import Image\n",
        "from torch import Tensor\n",
        "from torch.utils.data import Dataset\n",
        "from typing import List, Tuple"
      ]
    },
    {
      "cell_type": "code",
      "execution_count": 28,
      "id": "b99c9929",
      "metadata": {
        "id": "b99c9929"
      },
      "outputs": [],
      "source": [
        "class OxfordPetDataset(Dataset):\n",
        "    def __init__(self, split: str, transform=None) -> None:\n",
        "        super().__init__()\n",
        "\n",
        "        self.root = Path(\"ipcv-assignment-2\") / \"dataset\"\n",
        "        self.split = split\n",
        "        self.names, self.labels = self._get_names_and_labels()\n",
        "        self.transform = transform\n",
        "\n",
        "    def __len__(self) -> int:\n",
        "        return len(self.labels)\n",
        "\n",
        "    def __getitem__(self, idx) -> Tuple[Tensor, int]:\n",
        "        img_path = self.root / \"images\" / f\"{self.names[idx]}.jpg\"\n",
        "        img = Image.open(img_path).convert(\"RGB\")\n",
        "        label = self.labels[idx]\n",
        "\n",
        "        if self.transform:\n",
        "            img = self.transform(img)\n",
        "\n",
        "        return img, label\n",
        "\n",
        "    def get_num_classes(self) -> int:\n",
        "        return max(self.labels) + 1\n",
        "\n",
        "    def _get_names_and_labels(self) -> Tuple[List[str], List[int]]:\n",
        "        names = []\n",
        "        labels = []\n",
        "\n",
        "        with open(self.root / \"annotations\" / f\"{self.split}.txt\") as f:\n",
        "            for line in f:\n",
        "                name, label = line.replace(\"\\n\", \"\").split(\" \")\n",
        "                names.append(name),\n",
        "                labels.append(int(label) - 1)\n",
        "\n",
        "        return names, labels"
      ]
    },
    {
      "cell_type": "markdown",
      "id": "b4e655bd",
      "metadata": {
        "id": "b4e655bd"
      },
      "source": [
        "## Part 1: design your own network\n",
        "\n",
        "Your goal is to implement a convolutional neural network for image classification and train it from scratch on `OxfordPetDataset`. You should consider yourselves satisfied once you obtain a classification accuracy on the test split of ~60%. You are free to achieve this however you want, except for a few rules you must follow:\n",
        "\n",
        "- Compile this notebook by displaying the results obtained by the best model you found throughout your experimentation; then show how, by removing some of its components, its performance drops. In other words, do an *ablation study* to prove that your design choices have a positive impact on the final result.\n",
        "\n",
        "- Do not instantiate an off-the-self PyTorch network. Instead, construct your network as a composition of existing PyTorch layers. In more concrete terms, you can use e.g. `torch.nn.Linear`, but you cannot use e.g. `torchvision.models.alexnet`.\n",
        "\n",
        "- Show your results and ablations with plots, tables, images, etc. — the clearer, the better.\n",
        "\n",
        "Don't be too concerned with your model performance: the ~60% is just to give you an idea of when to stop. Keep in mind that a thoroughly justified model with lower accuracy will be rewarded more points than a poorly experimentally validated model with higher accuracy."
      ]
    },
    {
      "cell_type": "markdown",
      "source": [
        "### Import"
      ],
      "metadata": {
        "id": "Xywtm8HkUn1L"
      },
      "id": "Xywtm8HkUn1L"
    },
    {
      "cell_type": "code",
      "source": [
        "import random\n",
        "import time\n",
        "\n",
        "import matplotlib.pyplot as plt\n",
        "import numpy as np\n",
        "\n",
        "from tqdm.notebook import tqdm\n",
        "\n",
        "import torch\n",
        "import torch.nn as nn\n",
        "import torch.nn.functional as F\n",
        "\n",
        "from torch.optim import Adam\n",
        "from torch.utils.data import random_split, DataLoader\n",
        "from torchvision import transforms as T, datasets\n",
        "import torchvision.transforms.v2 as v2\n",
        "\n",
        "from torch.optim.lr_scheduler import OneCycleLR, ReduceLROnPlateau\n",
        "\n",
        "print(\"Using torch\", torch.__version__)"
      ],
      "metadata": {
        "id": "lQjtkTyTUnky",
        "outputId": "9149d8a8-33c8-408f-8756-b8fb422943a8",
        "colab": {
          "base_uri": "https://localhost:8080/"
        }
      },
      "id": "lQjtkTyTUnky",
      "execution_count": 61,
      "outputs": [
        {
          "output_type": "stream",
          "name": "stdout",
          "text": [
            "Using torch 2.8.0+cu126\n"
          ]
        }
      ]
    },
    {
      "cell_type": "markdown",
      "source": [
        "### Fix randomness"
      ],
      "metadata": {
        "id": "Ql8vnlt2U-w3"
      },
      "id": "Ql8vnlt2U-w3"
    },
    {
      "cell_type": "code",
      "source": [
        "def fix_random(seed: int) -> None:\n",
        "    \"\"\"Fix all the possible sources of randomness.\n",
        "\n",
        "    Args:\n",
        "        seed: the seed to use.\n",
        "    \"\"\"\n",
        "    np.random.seed(seed)\n",
        "    random.seed(seed)\n",
        "    torch.manual_seed(seed)\n",
        "    torch.cuda.manual_seed(seed)\n",
        "\n",
        "    torch.backends.cudnn.benchmark = False\n",
        "    torch.backends.cudnn.deterministic = True\n",
        "\n",
        "fix_random(33)"
      ],
      "metadata": {
        "id": "2cD9i6waVBgq"
      },
      "id": "2cD9i6waVBgq",
      "execution_count": 30,
      "outputs": []
    },
    {
      "cell_type": "markdown",
      "source": [
        "### GPU check"
      ],
      "metadata": {
        "id": "HS_ps69LVyxL"
      },
      "id": "HS_ps69LVyxL"
    },
    {
      "cell_type": "code",
      "source": [
        "gpu_avail = torch.cuda.is_available()\n",
        "print(f\"Is the GPU available? {gpu_avail}\")\n",
        "\n",
        "device = torch.device(\"cuda\") if torch.cuda.is_available() else torch.device(\"cpu\")\n",
        "print(f\"Device: {device}\")"
      ],
      "metadata": {
        "id": "xC1pFI5fV0vO",
        "outputId": "16911496-88cb-4bd4-d97b-8f35f6f94cc0",
        "colab": {
          "base_uri": "https://localhost:8080/"
        }
      },
      "id": "xC1pFI5fV0vO",
      "execution_count": 31,
      "outputs": [
        {
          "output_type": "stream",
          "name": "stdout",
          "text": [
            "Is the GPU available? True\n",
            "Device: cuda\n"
          ]
        }
      ]
    },
    {
      "cell_type": "markdown",
      "source": [
        "### Data preparation"
      ],
      "metadata": {
        "id": "mSygn4rHW8hr"
      },
      "id": "mSygn4rHW8hr"
    },
    {
      "cell_type": "code",
      "source": [
        "# ========================== Images have different shapes ==========================\n",
        "train_transformer = T.Compose([\n",
        "\n",
        "    # RANDOM CROP RESIZE to have uniform size, because the dataset has images of non-uniform dimensions\n",
        "    T.RandomResizedCrop(224, scale=(0.8, 1.0)),\n",
        "\n",
        "    # TRIVIAL AUGMENTATION: data augmentation with orizonatl flip\n",
        "    T.RandomHorizontalFlip(),\n",
        "\n",
        "    T.ToTensor(), #we get a 3-dimension tensor: img_h x img_w x channels\n",
        "    #the Loader will then add a dimension: the batch size\n",
        "\n",
        "    # RANDOM ERASING\n",
        "    T.ConvertImageDtype(torch.float),\n",
        "\n",
        "\n",
        "\n",
        "    T.RandomErasing(p=0.5, scale=(0.02, 0.33), ratio=(0.3, 3.3), value=0, inplace=False), #default values\n",
        "\n",
        "])\n",
        "\n",
        "test_transformer = T.Compose([\n",
        "    T.Resize(256), # mantain the ratio of the image\n",
        "    T.CenterCrop(224), # crop the right\n",
        "    T.ToTensor(),\n",
        "])\n",
        "# ========================== How do we deal with this !?! ==========================\n",
        "\n",
        "train_dset = OxfordPetDataset(\n",
        "    split=\"train\",\n",
        "    transform=train_transformer,\n",
        ")\n",
        "test_dset = OxfordPetDataset(\n",
        "    split=\"test\",\n",
        "    transform=test_transformer,\n",
        ")\n",
        "\n",
        "n_classes = train_dset.get_num_classes()\n",
        "print(f\"Number of classes: {n_classes}\")\n",
        "\n",
        "input_dim = len(train_dset[0][0])\n",
        "print(f\"Input dimension: {input_dim}\")\n",
        "\n",
        "train_subdset = train_dset\n",
        "\n",
        "test_dset, val_subdset = random_split(\n",
        "    test_dset,\n",
        "    [len(test_dset) - 500, 500]\n",
        ")\n",
        "\n",
        "print(f\"Number of training samples: {len(train_subdset)}\")\n",
        "print(f\"Number of validation samples: {len(val_subdset)}\")\n",
        "print(f\"Number of test samples: {len(test_dset)}\")"
      ],
      "metadata": {
        "id": "ux2Khkv7W_ay",
        "outputId": "b36dcd89-40a1-4f5e-a52d-8b74ed158802",
        "colab": {
          "base_uri": "https://localhost:8080/"
        }
      },
      "id": "ux2Khkv7W_ay",
      "execution_count": 32,
      "outputs": [
        {
          "output_type": "stream",
          "name": "stdout",
          "text": [
            "Number of classes: 37\n",
            "Input dimension: 3\n",
            "Number of training samples: 3669\n",
            "Number of validation samples: 500\n",
            "Number of test samples: 1346\n"
          ]
        }
      ]
    },
    {
      "cell_type": "markdown",
      "source": [
        "### Data Visualization"
      ],
      "metadata": {
        "id": "uz2GylTMkOfp"
      },
      "id": "uz2GylTMkOfp"
    },
    {
      "cell_type": "code",
      "source": [
        "_, ax = plt.subplots(1, 4)\n",
        "\n",
        "for i, idx in enumerate([0, 10, 20, 30]):\n",
        "    img, label = test_dset[idx]\n",
        "    ax[i].imshow(img.reshape(3, 224, 224).permute(1, 2, 0))\n",
        "    ax[i].set_title(label)\n",
        "    ax[i].axis(\"off\")"
      ],
      "metadata": {
        "colab": {
          "base_uri": "https://localhost:8080/",
          "height": 188
        },
        "id": "TeZf1hYFkO2j",
        "outputId": "ee1c0e9c-e21c-4ec9-ae8e-beb2a6ad9cbd"
      },
      "id": "TeZf1hYFkO2j",
      "execution_count": 33,
      "outputs": [
        {
          "output_type": "display_data",
          "data": {
            "text/plain": [
              "<Figure size 640x480 with 4 Axes>"
            ],
            "image/png": "[encoded data removed]"
          },
          "metadata": {}
        }
      ]
    },
    {
      "cell_type": "markdown",
      "source": [
        "### Data Loader"
      ],
      "metadata": {
        "id": "yhtjbC1ym73G"
      },
      "id": "yhtjbC1ym73G"
    },
    {
      "cell_type": "code",
      "source": [
        "batch_size = 128\n",
        "\n",
        "train_dl = DataLoader(\n",
        "    train_subdset,\n",
        "    batch_size=batch_size,\n",
        "    shuffle=True\n",
        ")\n",
        "val_dl = DataLoader(\n",
        "    val_subdset,\n",
        "    batch_size=batch_size\n",
        ")\n",
        "test_dl = DataLoader(\n",
        "    test_dset,\n",
        "    batch_size=batch_size\n",
        ")"
      ],
      "metadata": {
        "id": "6gmg_1Htm7hh"
      },
      "id": "6gmg_1Htm7hh",
      "execution_count": 34,
      "outputs": []
    },
    {
      "cell_type": "markdown",
      "source": [
        "### CNN Architecture"
      ],
      "metadata": {
        "id": "EOh6B4dlnbRw"
      },
      "id": "EOh6B4dlnbRw"
    },
    {
      "cell_type": "code",
      "source": [
        "# --------------------------------------------------\n",
        "# Building Blocks\n",
        "# --------------------------------------------------\n",
        "class BasicBlock(nn.Module):\n",
        "    expansion = 1\n",
        "\n",
        "    def __init__(self, in_channels, out_channels, stride=1, downsample=None):\n",
        "        super(BasicBlock, self).__init__()\n",
        "        self.conv1 = nn.Conv2d(in_channels, out_channels, kernel_size=3, stride=stride,\n",
        "                               padding=1, bias=False)\n",
        "        self.bn1 = nn.BatchNorm2d(out_channels)\n",
        "        self.conv2 = nn.Conv2d(out_channels, out_channels, kernel_size=3, stride=1,\n",
        "                               padding=1, bias=False)\n",
        "        self.bn2 = nn.BatchNorm2d(out_channels)\n",
        "        self.downsample = downsample\n",
        "\n",
        "    def forward(self, x):\n",
        "        identity = x\n",
        "\n",
        "        out = torch.relu(self.bn1(self.conv1(x)))\n",
        "        out = self.bn2(self.conv2(out))\n",
        "\n",
        "        if self.downsample is not None:\n",
        "            identity = self.downsample(x)\n",
        "\n",
        "        out += identity\n",
        "        out = torch.relu(out)\n",
        "        return out\n",
        "\n",
        "\n",
        "class Bottleneck(nn.Module):\n",
        "    expansion = 4\n",
        "\n",
        "    def __init__(self, in_channels, out_channels, stride=1, downsample=None):\n",
        "        super(Bottleneck, self).__init__()\n",
        "        self.conv1 = nn.Conv2d(in_channels, out_channels, kernel_size=1, bias=False)\n",
        "        self.bn1 = nn.BatchNorm2d(out_channels)\n",
        "        self.conv2 = nn.Conv2d(out_channels, out_channels, kernel_size=3, stride=stride,\n",
        "                               padding=1, bias=False)\n",
        "        self.bn2 = nn.BatchNorm2d(out_channels)\n",
        "        self.conv3 = nn.Conv2d(out_channels, out_channels * self.expansion, kernel_size=1, bias=False)\n",
        "        self.bn3 = nn.BatchNorm2d(out_channels * self.expansion)\n",
        "        self.downsample = downsample\n",
        "\n",
        "    def forward(self, x):\n",
        "        identity = x\n",
        "\n",
        "        out = torch.relu(self.bn1(self.conv1(x)))\n",
        "        out = torch.relu(self.bn2(self.conv2(out)))\n",
        "        out = self.bn3(self.conv3(out))\n",
        "\n",
        "        if self.downsample is not None:\n",
        "            identity = self.downsample(x)\n",
        "\n",
        "        out += identity\n",
        "        out = torch.relu(out)\n",
        "        return out\n",
        "\n",
        "\n",
        "# --------------------------------------------------\n",
        "# Generic ResNet\n",
        "# --------------------------------------------------\n",
        "class ResNet(nn.Module):\n",
        "    def __init__(self, block, layers, num_classes=37, input_channels=3, dropout=0.5):\n",
        "        super(ResNet, self).__init__()\n",
        "        self.in_channels = 64\n",
        "\n",
        "        # Initial stem\n",
        "        self.conv1 = nn.Conv2d(input_channels, 64, kernel_size=7, stride=2, padding=3, bias=False)\n",
        "        self.bn1 = nn.BatchNorm2d(64)\n",
        "        self.relu = nn.ReLU(inplace=True)\n",
        "        self.maxpool = nn.MaxPool2d(kernel_size=3, stride=2, padding=1)\n",
        "\n",
        "        # Residual layers\n",
        "        self.layer1 = self._make_layer(block, 64, layers[0])\n",
        "        self.layer2 = self._make_layer(block, 128, layers[1], stride=2)\n",
        "        self.layer3 = self._make_layer(block, 256, layers[2], stride=2)\n",
        "        self.layer4 = self._make_layer(block, 512, layers[3], stride=2)\n",
        "\n",
        "        # Adaptive pooling for variable input size\n",
        "        self.avgpool = nn.AdaptiveAvgPool2d((1, 1))\n",
        "        self.dropout = nn.Dropout(p=dropout)\n",
        "        self.fc = nn.Linear(512 * block.expansion, num_classes)\n",
        "\n",
        "    def _make_layer(self, block, out_channels, blocks, stride=1):\n",
        "        downsample = None\n",
        "        if stride != 1 or self.in_channels != out_channels * block.expansion:\n",
        "            downsample = nn.Sequential(\n",
        "                nn.Conv2d(self.in_channels, out_channels * block.expansion,\n",
        "                          kernel_size=1, stride=stride, bias=False),\n",
        "                nn.BatchNorm2d(out_channels * block.expansion),\n",
        "            )\n",
        "\n",
        "        layers = []\n",
        "        layers.append(block(self.in_channels, out_channels, stride, downsample))\n",
        "        self.in_channels = out_channels * block.expansion\n",
        "\n",
        "        for _ in range(1, blocks):\n",
        "            layers.append(block(self.in_channels, out_channels))\n",
        "\n",
        "        return nn.Sequential(*layers)\n",
        "\n",
        "    def forward(self, x):\n",
        "        x = self.relu(self.bn1(self.conv1(x)))\n",
        "        x = self.maxpool(x)\n",
        "\n",
        "        x = self.layer1(x)\n",
        "        x = self.layer2(x)\n",
        "        x = self.layer3(x)\n",
        "        x = self.layer4(x)\n",
        "\n",
        "        x = self.avgpool(x)\n",
        "        x = torch.flatten(x, 1)\n",
        "        x = self.dropout(x)\n",
        "        x = self.fc(x)\n",
        "\n",
        "        return x\n",
        "\n",
        "\n",
        "# --------------------------------------------------\n",
        "# Factory functions for standard ResNets\n",
        "# --------------------------------------------------\n",
        "def resnet18(num_classes, input_channels=3):\n",
        "    return ResNet(BasicBlock, [2, 2, 2, 2], num_classes, input_channels, dropout=0.5)\n",
        "\n",
        "\n",
        "def resnet34(num_classes, input_channels=3):\n",
        "    return ResNet(BasicBlock, [3, 4, 6, 3], num_classes, input_channels, dropout=0.5)\n",
        "\n",
        "\n",
        "def resnet50(num_classes, input_channels=3):\n",
        "    return ResNet(Bottleneck, [3, 4, 6, 3], num_classes, input_channels, dropout=0.5)\n",
        "\n",
        "\n",
        "def resnet101(num_classes, input_channels=3):\n",
        "    return ResNet(Bottleneck, [3, 4, 23, 3], num_classes, input_channels, dropout=0.5)\n",
        "\n",
        "\n",
        "def resnet152(num_classes, input_channels=3):\n",
        "    return ResNet(Bottleneck, [3, 8, 36, 3], num_classes, input_channels, dropout=0.5)\n"
      ],
      "metadata": {
        "id": "hKAT8S9831yD"
      },
      "id": "hKAT8S9831yD",
      "execution_count": 42,
      "outputs": []
    },
    {
      "cell_type": "code",
      "source": [
        "# class ResNet50(nn.Module):\n",
        "#     \"\"\"\n",
        "#     ResNet-50 with adaptive pooling to handle variable input sizes\n",
        "#     \"\"\"\n",
        "\n",
        "#     def __init__(self, num_classes=1000, input_channels=3):\n",
        "#         super(ResNet50, self).__init__()\n",
        "#         self.in_channels = 64\n",
        "\n",
        "#         # Initial layers (same as before)\n",
        "#         self.conv1 = nn.Conv2d(input_channels, 64, kernel_size=7, stride=2, padding=3, bias=False)\n",
        "#         self.bn1 = nn.BatchNorm2d(64)\n",
        "#         self.maxpool = nn.MaxPool2d(kernel_size=3, stride=2, padding=1)\n",
        "\n",
        "#         # Residual layers\n",
        "#         self.layer1 = self._make_layer(Bottleneck, 64, 3, stride=1)\n",
        "#         self.layer2 = self._make_layer(Bottleneck, 128, 4, stride=2)\n",
        "#         self.layer3 = self._make_layer(Bottleneck, 256, 6, stride=2)\n",
        "#         self.layer4 = self._make_layer(Bottleneck, 512, 3, stride=2)\n",
        "\n",
        "#         # Adaptive pooling handles variable sizes\n",
        "#         self.avgpool = nn.AdaptiveAvgPool2d((1, 1))\n",
        "#         self.fc = nn.Linear(512 * 4, num_classes)  # 4 is Bottleneck.expansion\n",
        "\n",
        "#     def _make_layer(self, block, out_channels, blocks, stride=1):\n",
        "#         # Same implementation as before\n",
        "#         downsample = None\n",
        "#         if stride != 1 or self.in_channels != out_channels * 4:\n",
        "#             downsample = nn.Sequential(\n",
        "#                 nn.Conv2d(self.in_channels, out_channels * 4, kernel_size=1, stride=stride, bias=False),\n",
        "#                 nn.BatchNorm2d(out_channels * 4)\n",
        "#             )\n",
        "\n",
        "#         layers = []\n",
        "#         layers.append(block(self.in_channels, out_channels, stride, downsample))\n",
        "#         self.in_channels = out_channels * 4\n",
        "\n",
        "#         for _ in range(1, blocks):\n",
        "#             layers.append(block(self.in_channels, out_channels))\n",
        "\n",
        "#         return nn.Sequential(*layers)\n",
        "\n",
        "#     def forward(self, x):\n",
        "#         # Works with any input size >= 32x32\n",
        "#         x = torch.relu(self.bn1(self.conv1(x)))\n",
        "#         x = self.maxpool(x)\n",
        "\n",
        "#         x = self.layer1(x)\n",
        "#         x = self.layer2(x)\n",
        "#         x = self.layer3(x)\n",
        "#         x = self.layer4(x)\n",
        "\n",
        "#         # Adaptive pooling ensures output is always 1x1\n",
        "#         x = self.avgpool(x)\n",
        "#         x = torch.flatten(x, 1)\n",
        "#         x = self.fc(x)\n",
        "\n",
        "#         return x\n",
        "\n",
        "# # Import required for Bottleneck\n",
        "# class Bottleneck(nn.Module):\n",
        "#     expansion = 4\n",
        "\n",
        "#     def __init__(self, in_channels, out_channels, stride=1, downsample=None):\n",
        "#         super(Bottleneck, self).__init__()\n",
        "#         self.conv1 = nn.Conv2d(in_channels, out_channels, kernel_size=1, bias=False)\n",
        "#         self.bn1 = nn.BatchNorm2d(out_channels)\n",
        "#         self.conv2 = nn.Conv2d(out_channels, out_channels, kernel_size=3, stride=stride, padding=1, bias=False)\n",
        "#         self.bn2 = nn.BatchNorm2d(out_channels)\n",
        "#         self.conv3 = nn.Conv2d(out_channels, out_channels * self.expansion, kernel_size=1, bias=False)\n",
        "#         self.bn3 = nn.BatchNorm2d(out_channels * self.expansion)\n",
        "#         self.downsample = downsample\n",
        "\n",
        "#     def forward(self, x):\n",
        "#         identity = x\n",
        "#         out = torch.relu(self.bn1(self.conv1(x)))\n",
        "#         out = torch.relu(self.bn2(self.conv2(out)))\n",
        "#         out = self.bn3(self.conv3(out))\n",
        "\n",
        "#         if self.downsample is not None:\n",
        "#             identity = self.downsample(x)\n",
        "\n",
        "#         out += identity\n",
        "#         out = torch.relu(out)\n",
        "#         return out"
      ],
      "metadata": {
        "id": "yre8Ernqna4R"
      },
      "id": "yre8Ernqna4R",
      "execution_count": 43,
      "outputs": []
    },
    {
      "cell_type": "markdown",
      "source": [
        "### Create model"
      ],
      "metadata": {
        "id": "bJTBTKblpGUy"
      },
      "id": "bJTBTKblpGUy"
    },
    {
      "cell_type": "code",
      "source": [
        "model = resnet18(num_classes=n_classes)\n",
        "model = model.to(device)"
      ],
      "metadata": {
        "id": "4tA7N3JNojma"
      },
      "id": "4tA7N3JNojma",
      "execution_count": 44,
      "outputs": []
    },
    {
      "cell_type": "markdown",
      "source": [
        "### Optimizer"
      ],
      "metadata": {
        "id": "qTHChQpZpXtD"
      },
      "id": "qTHChQpZpXtD"
    },
    {
      "cell_type": "code",
      "source": [
        "optimizer = Adam(model.parameters(), decoupled_weight_decay=True)"
      ],
      "metadata": {
        "id": "blmtZ7KPpdGH"
      },
      "id": "blmtZ7KPpdGH",
      "execution_count": 45,
      "outputs": []
    },
    {
      "cell_type": "markdown",
      "source": [
        "### Accuracy and Training loop"
      ],
      "metadata": {
        "id": "sJpUhrDFpog2"
      },
      "id": "sJpUhrDFpog2"
    },
    {
      "cell_type": "code",
      "source": [
        "batch_transforms = v2.Compose([\n",
        "    v2.MixUp(alpha=1.0, num_classes=n_classes),\n",
        "    v2.CutMix(alpha=1.0, num_classes=n_classes),\n",
        "])\n",
        "\n",
        "def ncorrect(scores, y):\n",
        "    y_hat = torch.argmax(scores, -1)\n",
        "    if y.ndim == 2:  # soft labels from MixUp/CutMix\n",
        "        y = torch.argmax(y, -1)\n",
        "    return (y_hat == y).sum()\n",
        "\n",
        "def accuracy(scores, y):\n",
        "    correct = ncorrect(scores, y)\n",
        "    return correct.true_divide(y.shape[0])\n",
        "\n",
        "def train_loop(model,\n",
        "               train_dl,\n",
        "               epochs,\n",
        "               opt,\n",
        "               scheduler=None,\n",
        "               scheduler_batchwise=False,\n",
        "               best_model_file_path=\"best_model.pth\",\n",
        "               val_dl=None,\n",
        "               verbose=False):\n",
        "\n",
        "    best_val_acc = 0\n",
        "    best_params = []\n",
        "    best_epoch = -1\n",
        "\n",
        "    for e in tqdm(range(epochs)):\n",
        "        # ----------[ Training loop ]---------- #\n",
        "        model.train()\n",
        "        train_loss = 0\n",
        "        train_samples = 0\n",
        "        train_acc = 0\n",
        "\n",
        "        for train_data in train_dl:\n",
        "            imgs, labels = train_data[0].to(device), train_data[1].to(device)\n",
        "            imgs, labels = batch_transforms(imgs, labels)\n",
        "\n",
        "            scores = model(imgs)\n",
        "            loss = F.cross_entropy(scores, labels, label_smoothing=0.1)\n",
        "\n",
        "            train_loss += loss.item() * imgs.shape[0]\n",
        "            train_samples += imgs.shape[0]\n",
        "            train_acc += ncorrect(scores, labels).item()\n",
        "\n",
        "            opt.zero_grad()\n",
        "            loss.backward()\n",
        "            opt.step()\n",
        "\n",
        "            # Step batch-wise scheduler (e.g. OneCycleLR)\n",
        "            if scheduler is not None and scheduler_batchwise:\n",
        "                scheduler.step()\n",
        "\n",
        "        train_acc /= train_samples\n",
        "        train_loss /= train_samples\n",
        "\n",
        "        # ----------[ Validation loop ]---------- #\n",
        "        model.eval()\n",
        "        with torch.no_grad():\n",
        "            val_loss = 0\n",
        "            val_samples = 0\n",
        "            val_acc = 0\n",
        "\n",
        "            if val_dl is not None:\n",
        "                for val_data in val_dl:\n",
        "                    imgs, labels = val_data[0].to(device), val_data[1].to(device)\n",
        "                    val_scores = model(imgs)\n",
        "\n",
        "                    val_loss += F.cross_entropy(val_scores, labels, label_smoothing=0.1).item() * imgs.shape[0]\n",
        "                    val_samples += imgs.shape[0]\n",
        "                    val_acc += ncorrect(val_scores, labels).item()\n",
        "                val_acc /= val_samples\n",
        "                val_loss /= val_samples\n",
        "\n",
        "                # Step epoch-wise scheduler\n",
        "                if scheduler is not None and not scheduler_batchwise:\n",
        "                    scheduler.step(val_acc)\n",
        "\n",
        "            if val_dl is None or val_acc > best_val_acc:\n",
        "                best_val_acc = val_acc if val_dl is not None else 0\n",
        "                best_params = model.state_dict()\n",
        "                torch.save(best_params, best_model_file_path)\n",
        "                best_epoch = e\n",
        "\n",
        "        if verbose:\n",
        "            print(f\"Epoch {e}: train loss {train_loss:.3f} - train acc {train_acc:.3f}\" +\n",
        "                  (\"\" if val_dl is None else f\" - valid loss {val_loss:.3f} - valid acc {val_acc:.3f}\"))\n",
        "\n",
        "    if verbose and val_dl is not None:\n",
        "        print(f\"Best epoch {best_epoch}, best acc {best_val_acc}\")\n",
        "\n",
        "    return best_val_acc, best_params, best_epoch\n"
      ],
      "metadata": {
        "id": "Zk0YLM_Apo04"
      },
      "id": "Zk0YLM_Apo04",
      "execution_count": 64,
      "outputs": []
    },
    {
      "cell_type": "markdown",
      "source": [
        "### Free memory"
      ],
      "metadata": {
        "id": "dF8KPzGOY4vh"
      },
      "id": "dF8KPzGOY4vh"
    },
    {
      "cell_type": "code",
      "source": [
        "import gc\n",
        "\n",
        "torch.cuda.empty_cache()\n",
        "gc.collect()"
      ],
      "metadata": {
        "colab": {
          "base_uri": "https://localhost:8080/"
        },
        "id": "NPKGNgNzZCIL",
        "outputId": "2c7719fd-459f-45ef-ea00-1b9ddccf05f0"
      },
      "id": "NPKGNgNzZCIL",
      "execution_count": 47,
      "outputs": [
        {
          "output_type": "execute_result",
          "data": {
            "text/plain": [
              "1476"
            ]
          },
          "metadata": {},
          "execution_count": 47
        }
      ]
    },
    {
      "cell_type": "markdown",
      "source": [
        "### Train the network"
      ],
      "metadata": {
        "id": "E7ZJY0qmpyWx"
      },
      "id": "E7ZJY0qmpyWx"
    },
    {
      "cell_type": "code",
      "source": [
        "epochs = 10\n",
        "\n",
        "# Scheduler\n",
        "\n",
        "schedulers={\n",
        "    'ReduceLROnPlateau': {\n",
        "        'scheduler': ReduceLROnPlateau(\n",
        "            optimizer,\n",
        "            mode=\"max\",\n",
        "            patience=3\n",
        "            )\n",
        "        ,\n",
        "        'scheduler_batchwise':False\n",
        "    },\n",
        "    'OneCycleLR': {\n",
        "        'scheduler': OneCycleLR(\n",
        "            optimizer,\n",
        "            max_lr=1e-3,                      # peak LR\n",
        "            steps_per_epoch=len(train_dl),    # number of batches per epoch\n",
        "            epochs=epochs,                    # total number of epochs\n",
        "            pct_start=0.3,                    # % of cycle to increase LR (default 30%)\n",
        "            anneal_strategy='cos'             # cosine annealing down\n",
        "            )\n",
        "        ,\n",
        "        'scheduler_batchwise':True\n",
        "    }\n",
        "}\n",
        "\n",
        "\n",
        "# =========== UNCOMMENT if want to improve an already existing model ===========\n",
        "#model = resnet18(\n",
        "#    num_classes=n_classes\n",
        "#)\n",
        "#model.load_state_dict(torch.load(\"best_model_luca.pth\"))\n",
        "#model = model.to(device)\n",
        "# ==============================================================================\n",
        "\n",
        "# Training\n",
        "best_val_acc, best_params, best_epoch = train_loop(\n",
        "    model = model,\n",
        "    train_dl = train_dl,\n",
        "    epochs = epochs,\n",
        "    opt = optimizer,\n",
        "    scheduler = schedulers['ReduceLROnPlateau']['scheduler'],\n",
        "    scheduler_batchwise = schedulers['ReduceLROnPlateau']['scheduler_batchwise'],\n",
        "    best_model_file_path=\"best_model_luca2.pth\",\n",
        "    val_dl=val_dl,\n",
        "    verbose=True\n",
        ")"
      ],
      "metadata": {
        "id": "1fBYGEghp0oU",
        "outputId": "7092ae29-b7ab-4ae7-f0bb-34d16b689c50",
        "colab": {
          "base_uri": "https://localhost:8080/",
          "height": 254,
          "referenced_widgets": [
            "ede84a1bcc524f9caf047740b2305f0d",
            "f23dfac6f85a4d69bc8e56f8b9f319cb",
            "e6deaa73a6d74a28a5e6db84f6c3a4c5",
            "26f57039f3594ee5a030bc21fa8f61a1",
            "2f0e837ff9294b1ea354c5863d957491",
            "7c98cc45c8e94054a3db341b1db25fc9",
            "ebe7bb3178e74526889033f887cb416a",
            "99eb55663b894664adda9832f2ef624c",
            "e90380084b514fdfb86b4c390b1cd33b",
            "4ed339d75b8043d69fe1458383ed25c9",
            "2a3d3f6d57b64cbd89fd735d682f3a87"
          ]
        }
      },
      "id": "1fBYGEghp0oU",
      "execution_count": 67,
      "outputs": [
        {
          "output_type": "display_data",
          "data": {
            "text/plain": [
              "  0%|          | 0/10 [00:00<?, ?it/s]"
            ],
            "application/vnd.jupyter.widget-view+json": {
              "version_major": 2,
              "version_minor": 0,
              "model_id": "ede84a1bcc524f9caf047740b2305f0d"
            }
          },
          "metadata": {}
        },
        {
          "output_type": "stream",
          "name": "stdout",
          "text": [
            "Epoch 0: train loss 2.748 - train acc 0.469 - valid loss 1.984 - valid acc 0.574\n",
            "Epoch 1: train loss 2.734 - train acc 0.483 - valid loss 1.979 - valid acc 0.580\n",
            "Epoch 2: train loss 2.801 - train acc 0.442 - valid loss 1.982 - valid acc 0.582\n",
            "Epoch 3: train loss 2.808 - train acc 0.436 - valid loss 1.956 - valid acc 0.584\n",
            "Epoch 4: train loss 2.771 - train acc 0.461 - valid loss 1.969 - valid acc 0.586\n",
            "Epoch 5: train loss 2.799 - train acc 0.460 - valid loss 2.018 - valid acc 0.576\n",
            "Epoch 6: train loss 2.755 - train acc 0.477 - valid loss 1.965 - valid acc 0.584\n",
            "Epoch 7: train loss 2.735 - train acc 0.500 - valid loss 2.015 - valid acc 0.572\n",
            "Epoch 8: train loss 2.725 - train acc 0.469 - valid loss 1.976 - valid acc 0.584\n",
            "Epoch 9: train loss 2.760 - train acc 0.464 - valid loss 1.986 - valid acc 0.580\n",
            "Best epoch 4, best acc 0.586\n"
          ]
        }
      ]
    },
    {
      "cell_type": "markdown",
      "source": [
        "### Load the model"
      ],
      "metadata": {
        "id": "4jSQlWZ7Zte_"
      },
      "id": "4jSQlWZ7Zte_"
    },
    {
      "cell_type": "code",
      "source": [
        "# Load state dict from the disk (make sure it is the same name as above)\n",
        "state_dict = torch.load(\"best_model_luca2.pth\")\n",
        "\n",
        "# Create a new model and load the state dict\n",
        "new_model = model = resnet18(\n",
        "    num_classes=n_classes\n",
        ")\n",
        "\n",
        "# Load the model and send the model wheight to the device\n",
        "new_model.load_state_dict(state_dict)\n",
        "new_model = new_model.to(device)"
      ],
      "metadata": {
        "id": "tNrPauKMZwut"
      },
      "id": "tNrPauKMZwut",
      "execution_count": 68,
      "outputs": []
    },
    {
      "cell_type": "markdown",
      "source": [
        "### Evaluation of the model"
      ],
      "metadata": {
        "id": "fKmK-GR7aEG5"
      },
      "id": "fKmK-GR7aEG5"
    },
    {
      "cell_type": "code",
      "source": [
        "# Evaluate the model using the test set\n",
        "new_model.eval()\n",
        "confusion_matrix = torch.zeros(n_classes, n_classes, dtype=torch.int)\n",
        "\n",
        "with torch.no_grad():\n",
        "    for test_data in test_dl:\n",
        "        imgs, labels = test_data\n",
        "        imgs = imgs.to(device)\n",
        "        labels = labels.to(device)\n",
        "\n",
        "        scores = new_model(imgs)\n",
        "        preds = torch.argmax(scores, -1)\n",
        "        ''' scores is a tensor of shape [batch_size, n_classes].\n",
        "            torch.argmax(scores, -1) returns the index of the maximum score along the last dimension (class dimension).\n",
        "            So preds is a tensor of shape [batch_size], containing the predicted class index for each sample in the batch. '''\n",
        "\n",
        "        for lbl, pred in zip(labels.view(-1), preds.view(-1)): #iterate over both labels and predictions\n",
        "                confusion_matrix[lbl.int(), pred.int()] += 1   #e.g. If the true label is 2 and the model predicted 0, it adds 1 to confusion_matrix[2, 0].\n",
        "\n",
        "test_acc = (torch.diagonal(confusion_matrix).sum() / confusion_matrix.sum()).item()\n",
        "print(test_acc)"
      ],
      "metadata": {
        "id": "3HcnH1ytaMgj",
        "outputId": "e7566ca0-2881-4f86-f44e-568b8b5cb89e",
        "colab": {
          "base_uri": "https://localhost:8080/"
        }
      },
      "id": "3HcnH1ytaMgj",
      "execution_count": 69,
      "outputs": [
        {
          "output_type": "stream",
          "name": "stdout",
          "text": [
            "0.5430906414985657\n"
          ]
        }
      ]
    },
    {
      "cell_type": "markdown",
      "id": "192fb2ce",
      "metadata": {
        "id": "192fb2ce"
      },
      "source": [
        "## Part 2: fine-tune an existing network\n",
        "\n",
        "Your goal is to fine-tune a pretrained ResNet-18 model on `OxfordPetDataset`. Use the implementation provided by PyTorch, i.e. the opposite of part 1. Specifically, use the PyTorch ResNet-18 model pretrained on ImageNet-1K (V1). Divide your fine-tuning into two parts:\n",
        "\n",
        "2A. First, fine-tune the ResNet-18 with the same training hyperparameters you used for your best model in part 1.\n",
        "\n",
        "2B. Then, tweak the training hyperparameters in order to increase the accuracy on the test split. Justify your choices by analyzing the training plots and/or citing sources that guided you in your decisions — papers, blog posts, YouTube videos, or whatever else you may find useful. You should consider yourselves satisfied once you obtain a classification accuracy on the test split of ~90%."
      ]
    }
  ],
  "metadata": {
    "kernelspec": {
      "display_name": "Python 3",
      "name": "python3"
    },
    "language_info": {
      "codemirror_mode": {
        "name": "ipython",
        "version": 3
      },
      "file_extension": ".py",
      "mimetype": "text/x-python",
      "name": "python",
      "nbconvert_exporter": "python",
      "pygments_lexer": "ipython3",
      "version": "3.8.16"
    },
    "colab": {
      "provenance": [],
      "gpuType": "T4"
    },
    "accelerator": "GPU",
    "widgets": {
      "application/vnd.jupyter.widget-state+json": {
        "ede84a1bcc524f9caf047740b2305f0d": {
          "model_module": "@jupyter-widgets/controls",
          "model_name": "HBoxModel",
          "model_module_version": "1.5.0",
          "state": {
            "_dom_classes": [],
            "_model_module": "@jupyter-widgets/controls",
            "_model_module_version": "1.5.0",
            "_model_name": "HBoxModel",
            "_view_count": null,
            "_view_module": "@jupyter-widgets/controls",
            "_view_module_version": "1.5.0",
            "_view_name": "HBoxView",
            "box_style": "",
            "children": [
              "IPY_MODEL_f23dfac6f85a4d69bc8e56f8b9f319cb",
              "IPY_MODEL_e6deaa73a6d74a28a5e6db84f6c3a4c5",
              "IPY_MODEL_26f57039f3594ee5a030bc21fa8f61a1"
            ],
            "layout": "IPY_MODEL_2f0e837ff9294b1ea354c5863d957491"
          }
        },
        "f23dfac6f85a4d69bc8e56f8b9f319cb": {
          "model_module": "@jupyter-widgets/controls",
          "model_name": "HTMLModel",
          "model_module_version": "1.5.0",
          "state": {
            "_dom_classes": [],
            "_model_module": "@jupyter-widgets/controls",
            "_model_module_version": "1.5.0",
            "_model_name": "HTMLModel",
            "_view_count": null,
            "_view_module": "@jupyter-widgets/controls",
            "_view_module_version": "1.5.0",
            "_view_name": "HTMLView",
            "description": "",
            "description_tooltip": null,
            "layout": "IPY_MODEL_7c98cc45c8e94054a3db341b1db25fc9",
            "placeholder": "​",
            "style": "IPY_MODEL_ebe7bb3178e74526889033f887cb416a",
            "value": "100%"
          }
        },
        "e6deaa73a6d74a28a5e6db84f6c3a4c5": {
          "model_module": "@jupyter-widgets/controls",
          "model_name": "FloatProgressModel",
          "model_module_version": "1.5.0",
          "state": {
            "_dom_classes": [],
            "_model_module": "@jupyter-widgets/controls",
            "_model_module_version": "1.5.0",
            "_model_name": "FloatProgressModel",
            "_view_count": null,
            "_view_module": "@jupyter-widgets/controls",
            "_view_module_version": "1.5.0",
            "_view_name": "ProgressView",
            "bar_style": "success",
            "description": "",
            "description_tooltip": null,
            "layout": "IPY_MODEL_99eb55663b894664adda9832f2ef624c",
            "max": 10,
            "min": 0,
            "orientation": "horizontal",
            "style": "IPY_MODEL_e90380084b514fdfb86b4c390b1cd33b",
            "value": 10
          }
        },
        "26f57039f3594ee5a030bc21fa8f61a1": {
          "model_module": "@jupyter-widgets/controls",
          "model_name": "HTMLModel",
          "model_module_version": "1.5.0",
          "state": {
            "_dom_classes": [],
            "_model_module": "@jupyter-widgets/controls",
            "_model_module_version": "1.5.0",
            "_model_name": "HTMLModel",
            "_view_count": null,
            "_view_module": "@jupyter-widgets/controls",
            "_view_module_version": "1.5.0",
            "_view_name": "HTMLView",
            "description": "",
            "description_tooltip": null,
            "layout": "IPY_MODEL_4ed339d75b8043d69fe1458383ed25c9",
            "placeholder": "​",
            "style": "IPY_MODEL_2a3d3f6d57b64cbd89fd735d682f3a87",
            "value": " 10/10 [05:04&lt;00:00, 30.20s/it]"
          }
        },
        "2f0e837ff9294b1ea354c5863d957491": {
          "model_module": "@jupyter-widgets/base",
          "model_name": "LayoutModel",
          "model_module_version": "1.2.0",
          "state": {
            "_model_module": "@jupyter-widgets/base",
            "_model_module_version": "1.2.0",
            "_model_name": "LayoutModel",
            "_view_count": null,
            "_view_module": "@jupyter-widgets/base",
            "_view_module_version": "1.2.0",
            "_view_name": "LayoutView",
            "align_content": null,
            "align_items": null,
            "align_self": null,
            "border": null,
            "bottom": null,
            "display": null,
            "flex": null,
            "flex_flow": null,
            "grid_area": null,
            "grid_auto_columns": null,
            "grid_auto_flow": null,
            "grid_auto_rows": null,
            "grid_column": null,
            "grid_gap": null,
            "grid_row": null,
            "grid_template_areas": null,
            "grid_template_columns": null,
            "grid_template_rows": null,
            "height": null,
            "justify_content": null,
            "justify_items": null,
            "left": null,
            "margin": null,
            "max_height": null,
            "max_width": null,
            "min_height": null,
            "min_width": null,
            "object_fit": null,
            "object_position": null,
            "order": null,
            "overflow": null,
            "overflow_x": null,
            "overflow_y": null,
            "padding": null,
            "right": null,
            "top": null,
            "visibility": null,
            "width": null
          }
        },
        "7c98cc45c8e94054a3db341b1db25fc9": {
          "model_module": "@jupyter-widgets/base",
          "model_name": "LayoutModel",
          "model_module_version": "1.2.0",
          "state": {
            "_model_module": "@jupyter-widgets/base",
            "_model_module_version": "1.2.0",
            "_model_name": "LayoutModel",
            "_view_count": null,
            "_view_module": "@jupyter-widgets/base",
            "_view_module_version": "1.2.0",
            "_view_name": "LayoutView",
            "align_content": null,
            "align_items": null,
            "align_self": null,
            "border": null,
            "bottom": null,
            "display": null,
            "flex": null,
            "flex_flow": null,
            "grid_area": null,
            "grid_auto_columns": null,
            "grid_auto_flow": null,
            "grid_auto_rows": null,
            "grid_column": null,
            "grid_gap": null,
            "grid_row": null,
            "grid_template_areas": null,
            "grid_template_columns": null,
            "grid_template_rows": null,
            "height": null,
            "justify_content": null,
            "justify_items": null,
            "left": null,
            "margin": null,
            "max_height": null,
            "max_width": null,
            "min_height": null,
            "min_width": null,
            "object_fit": null,
            "object_position": null,
            "order": null,
            "overflow": null,
            "overflow_x": null,
            "overflow_y": null,
            "padding": null,
            "right": null,
            "top": null,
            "visibility": null,
            "width": null
          }
        },
        "ebe7bb3178e74526889033f887cb416a": {
          "model_module": "@jupyter-widgets/controls",
          "model_name": "DescriptionStyleModel",
          "model_module_version": "1.5.0",
          "state": {
            "_model_module": "@jupyter-widgets/controls",
            "_model_module_version": "1.5.0",
            "_model_name": "DescriptionStyleModel",
            "_view_count": null,
            "_view_module": "@jupyter-widgets/base",
            "_view_module_version": "1.2.0",
            "_view_name": "StyleView",
            "description_width": ""
          }
        },
        "99eb55663b894664adda9832f2ef624c": {
          "model_module": "@jupyter-widgets/base",
          "model_name": "LayoutModel",
          "model_module_version": "1.2.0",
          "state": {
            "_model_module": "@jupyter-widgets/base",
            "_model_module_version": "1.2.0",
            "_model_name": "LayoutModel",
            "_view_count": null,
            "_view_module": "@jupyter-widgets/base",
            "_view_module_version": "1.2.0",
            "_view_name": "LayoutView",
            "align_content": null,
            "align_items": null,
            "align_self": null,
            "border": null,
            "bottom": null,
            "display": null,
            "flex": null,
            "flex_flow": null,
            "grid_area": null,
            "grid_auto_columns": null,
            "grid_auto_flow": null,
            "grid_auto_rows": null,
            "grid_column": null,
            "grid_gap": null,
            "grid_row": null,
            "grid_template_areas": null,
            "grid_template_columns": null,
            "grid_template_rows": null,
            "height": null,
            "justify_content": null,
            "justify_items": null,
            "left": null,
            "margin": null,
            "max_height": null,
            "max_width": null,
            "min_height": null,
            "min_width": null,
            "object_fit": null,
            "object_position": null,
            "order": null,
            "overflow": null,
            "overflow_x": null,
            "overflow_y": null,
            "padding": null,
            "right": null,
            "top": null,
            "visibility": null,
            "width": null
          }
        },
        "e90380084b514fdfb86b4c390b1cd33b": {
          "model_module": "@jupyter-widgets/controls",
          "model_name": "ProgressStyleModel",
          "model_module_version": "1.5.0",
          "state": {
            "_model_module": "@jupyter-widgets/controls",
            "_model_module_version": "1.5.0",
            "_model_name": "ProgressStyleModel",
            "_view_count": null,
            "_view_module": "@jupyter-widgets/base",
            "_view_module_version": "1.2.0",
            "_view_name": "StyleView",
            "bar_color": null,
            "description_width": ""
          }
        },
        "4ed339d75b8043d69fe1458383ed25c9": {
          "model_module": "@jupyter-widgets/base",
          "model_name": "LayoutModel",
          "model_module_version": "1.2.0",
          "state": {
            "_model_module": "@jupyter-widgets/base",
            "_model_module_version": "1.2.0",
            "_model_name": "LayoutModel",
            "_view_count": null,
            "_view_module": "@jupyter-widgets/base",
            "_view_module_version": "1.2.0",
            "_view_name": "LayoutView",
            "align_content": null,
            "align_items": null,
            "align_self": null,
            "border": null,
            "bottom": null,
            "display": null,
            "flex": null,
            "flex_flow": null,
            "grid_area": null,
            "grid_auto_columns": null,
            "grid_auto_flow": null,
            "grid_auto_rows": null,
            "grid_column": null,
            "grid_gap": null,
            "grid_row": null,
            "grid_template_areas": null,
            "grid_template_columns": null,
            "grid_template_rows": null,
            "height": null,
            "justify_content": null,
            "justify_items": null,
            "left": null,
            "margin": null,
            "max_height": null,
            "max_width": null,
            "min_height": null,
            "min_width": null,
            "object_fit": null,
            "object_position": null,
            "order": null,
            "overflow": null,
            "overflow_x": null,
            "overflow_y": null,
            "padding": null,
            "right": null,
            "top": null,
            "visibility": null,
            "width": null
          }
        },
        "2a3d3f6d57b64cbd89fd735d682f3a87": {
          "model_module": "@jupyter-widgets/controls",
          "model_name": "DescriptionStyleModel",
          "model_module_version": "1.5.0",
          "state": {
            "_model_module": "@jupyter-widgets/controls",
            "_model_module_version": "1.5.0",
            "_model_name": "DescriptionStyleModel",
            "_view_count": null,
            "_view_module": "@jupyter-widgets/base",
            "_view_module_version": "1.2.0",
            "_view_name": "StyleView",
            "description_width": ""
          }
        }
      }
    }
  },
  "nbformat": 4,
  "nbformat_minor": 5
}