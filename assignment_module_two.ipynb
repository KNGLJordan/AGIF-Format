{
  "cells": [
    {
      "cell_type": "markdown",
      "id": "d41535fd",
      "metadata": {
        "id": "d41535fd"
      },
      "source": [
        "# Assignment Module 2: Pet Classification\n",
        "\n",
        "The goal of this assignment is to implement a neural network that classifies images of 37 breeds of cats and dogs from the [Oxford-IIIT-Pet dataset](https://www.robots.ox.ac.uk/~vgg/data/pets/). The assignment is divided into two parts: first, you will be asked to implement from scratch your own neural network for image classification; then, you will fine-tune a pretrained network provided by PyTorch."
      ]
    },
    {
      "cell_type": "markdown",
      "id": "b1476550",
      "metadata": {
        "id": "b1476550"
      },
      "source": [
        "## Dataset\n",
        "\n",
        "The following cells contain the code to download and access the dataset you will be using in this assignment. Note that, although this dataset features each and every image from [Oxford-IIIT-Pet](https://www.robots.ox.ac.uk/~vgg/data/pets/), it uses a different train-val-test split than the original authors."
      ]
    },
    {
      "cell_type": "code",
      "execution_count": 8,
      "id": "91101a0d",
      "metadata": {
        "id": "91101a0d",
        "outputId": "e9673134-6003-47d6-df6a-6ff21b2781ec",
        "colab": {
          "base_uri": "https://localhost:8080/"
        }
      },
      "outputs": [
        {
          "output_type": "stream",
          "name": "stdout",
          "text": [
            "Cloning into 'ipcv-assignment-2'...\n",
            "remote: Enumerating objects: 7371, done.\u001b[K\n",
            "remote: Total 7371 (delta 0), reused 0 (delta 0), pack-reused 7371 (from 1)\u001b[K\n",
            "Receiving objects: 100% (7371/7371), 753.77 MiB | 40.17 MiB/s, done.\n",
            "Updating files: 100% (7396/7396), done.\n"
          ]
        }
      ],
      "source": [
        "!git clone https://github.com/CVLAB-Unibo/ipcv-assignment-2.git"
      ]
    },
    {
      "cell_type": "code",
      "execution_count": 3,
      "id": "0d8fb0d2",
      "metadata": {
        "id": "0d8fb0d2"
      },
      "outputs": [],
      "source": [
        "from pathlib import Path\n",
        "from PIL import Image\n",
        "from torch import Tensor\n",
        "from torch.utils.data import Dataset\n",
        "from typing import List, Tuple"
      ]
    },
    {
      "cell_type": "code",
      "execution_count": 4,
      "id": "b99c9929",
      "metadata": {
        "id": "b99c9929"
      },
      "outputs": [],
      "source": [
        "class OxfordPetDataset(Dataset):\n",
        "    def __init__(self, split: str, transform=None) -> None:\n",
        "        super().__init__()\n",
        "\n",
        "        self.root = Path(\"ipcv-assignment-2\") / \"dataset\"\n",
        "        self.split = split\n",
        "        self.names, self.labels = self._get_names_and_labels()\n",
        "        self.transform = transform\n",
        "\n",
        "    def __len__(self) -> int:\n",
        "        return len(self.labels)\n",
        "\n",
        "    def __getitem__(self, idx) -> Tuple[Tensor, int]:\n",
        "        img_path = self.root / \"images\" / f\"{self.names[idx]}.jpg\"\n",
        "        img = Image.open(img_path).convert(\"RGB\")\n",
        "        label = self.labels[idx]\n",
        "\n",
        "        if self.transform:\n",
        "            img = self.transform(img)\n",
        "\n",
        "        return img, label\n",
        "\n",
        "    def get_num_classes(self) -> int:\n",
        "        return max(self.labels) + 1\n",
        "\n",
        "    def _get_names_and_labels(self) -> Tuple[List[str], List[int]]:\n",
        "        names = []\n",
        "        labels = []\n",
        "\n",
        "        with open(self.root / \"annotations\" / f\"{self.split}.txt\") as f:\n",
        "            for line in f:\n",
        "                name, label = line.replace(\"\\n\", \"\").split(\" \")\n",
        "                names.append(name),\n",
        "                labels.append(int(label) - 1)\n",
        "\n",
        "        return names, labels"
      ]
    },
    {
      "cell_type": "markdown",
      "id": "b4e655bd",
      "metadata": {
        "id": "b4e655bd"
      },
      "source": [
        "## Part 1: design your own network\n",
        "\n",
        "Your goal is to implement a convolutional neural network for image classification and train it from scratch on `OxfordPetDataset`. You should consider yourselves satisfied once you obtain a classification accuracy on the test split of ~60%. You are free to achieve this however you want, except for a few rules you must follow:\n",
        "\n",
        "- Compile this notebook by displaying the results obtained by the best model you found throughout your experimentation; then show how, by removing some of its components, its performance drops. In other words, do an *ablation study* to prove that your design choices have a positive impact on the final result.\n",
        "\n",
        "- Do not instantiate an off-the-self PyTorch network. Instead, construct your network as a composition of existing PyTorch layers. In more concrete terms, you can use e.g. `torch.nn.Linear`, but you cannot use e.g. `torchvision.models.alexnet`.\n",
        "\n",
        "- Show your results and ablations with plots, tables, images, etc. — the clearer, the better.\n",
        "\n",
        "Don't be too concerned with your model performance: the ~60% is just to give you an idea of when to stop. Keep in mind that a thoroughly justified model with lower accuracy will be rewarded more points than a poorly experimentally validated model with higher accuracy."
      ]
    },
    {
      "cell_type": "markdown",
      "source": [
        "### Import"
      ],
      "metadata": {
        "id": "Xywtm8HkUn1L"
      },
      "id": "Xywtm8HkUn1L"
    },
    {
      "cell_type": "code",
      "source": [
        "import random\n",
        "import time\n",
        "\n",
        "import matplotlib.pyplot as plt\n",
        "import numpy as np\n",
        "\n",
        "from tqdm.notebook import tqdm\n",
        "\n",
        "import torch\n",
        "import torch.nn as nn\n",
        "import torch.nn.functional as F\n",
        "\n",
        "from torch.optim import Adam\n",
        "from torch.utils.data import random_split, DataLoader\n",
        "from torchvision import transforms as T, datasets\n",
        "import torchvision.transforms.v2 as v2\n",
        "\n",
        "from torch.optim.lr_scheduler import OneCycleLR, ReduceLROnPlateau, CosineAnnealingLR\n",
        "\n",
        "print(\"Using torch\", torch.__version__)"
      ],
      "metadata": {
        "id": "lQjtkTyTUnky",
        "outputId": "d99af8cf-a587-4fb1-928b-a0a36075aaaf",
        "colab": {
          "base_uri": "https://localhost:8080/"
        }
      },
      "id": "lQjtkTyTUnky",
      "execution_count": 5,
      "outputs": [
        {
          "output_type": "stream",
          "name": "stdout",
          "text": [
            "Using torch 2.8.0+cu126\n"
          ]
        }
      ]
    },
    {
      "cell_type": "markdown",
      "source": [
        "### Fix randomness"
      ],
      "metadata": {
        "id": "Ql8vnlt2U-w3"
      },
      "id": "Ql8vnlt2U-w3"
    },
    {
      "cell_type": "code",
      "source": [
        "def fix_random(seed: int) -> None:\n",
        "    \"\"\"Fix all the possible sources of randomness.\n",
        "\n",
        "    Args:\n",
        "        seed: the seed to use.\n",
        "    \"\"\"\n",
        "    np.random.seed(seed)\n",
        "    random.seed(seed)\n",
        "    torch.manual_seed(seed)\n",
        "    torch.cuda.manual_seed(seed)\n",
        "\n",
        "    torch.backends.cudnn.benchmark = False\n",
        "    torch.backends.cudnn.deterministic = True\n",
        "\n",
        "fix_random(33)"
      ],
      "metadata": {
        "id": "2cD9i6waVBgq"
      },
      "id": "2cD9i6waVBgq",
      "execution_count": 6,
      "outputs": []
    },
    {
      "cell_type": "markdown",
      "source": [
        "### GPU check"
      ],
      "metadata": {
        "id": "HS_ps69LVyxL"
      },
      "id": "HS_ps69LVyxL"
    },
    {
      "cell_type": "code",
      "source": [
        "gpu_avail = torch.cuda.is_available()\n",
        "print(f\"Is the GPU available? {gpu_avail}\")\n",
        "\n",
        "device = torch.device(\"cuda\") if torch.cuda.is_available() else torch.device(\"cpu\")\n",
        "print(f\"Device: {device}\")"
      ],
      "metadata": {
        "id": "xC1pFI5fV0vO",
        "outputId": "281e215f-8097-4acc-d0e4-b80322095b7d",
        "colab": {
          "base_uri": "https://localhost:8080/"
        }
      },
      "id": "xC1pFI5fV0vO",
      "execution_count": 14,
      "outputs": [
        {
          "output_type": "stream",
          "name": "stdout",
          "text": [
            "Is the GPU available? False\n",
            "Device: cpu\n"
          ]
        }
      ]
    },
    {
      "cell_type": "markdown",
      "source": [
        "### Data preparation"
      ],
      "metadata": {
        "id": "mSygn4rHW8hr"
      },
      "id": "mSygn4rHW8hr"
    },
    {
      "cell_type": "code",
      "source": [
        "# ========================== Images have different shapes ==========================\n",
        "train_transformer = T.Compose([\n",
        "\n",
        "    # RANDOM CROP RESIZE to have uniform size, because the dataset has images of non-uniform dimensions\n",
        "    T.RandomResizedCrop(224, scale=(0.8, 1.0)),\n",
        "\n",
        "    # TRIVIAL AUGMENTATION: data augmentation with orizonatl flip\n",
        "    T.RandomHorizontalFlip(),\n",
        "\n",
        "    T.ToTensor(), #we get a 3-dimension tensor: img_h x img_w x channels\n",
        "    #the Loader will then add a dimension: the batch size\n",
        "\n",
        "    # RANDOM ERASING\n",
        "    T.ConvertImageDtype(torch.float),\n",
        "\n",
        "\n",
        "\n",
        "    T.RandomErasing(p=0.5, scale=(0.02, 0.33), ratio=(0.3, 3.3), value=0, inplace=False), #default values\n",
        "\n",
        "])\n",
        "\n",
        "test_transformer = T.Compose([\n",
        "    T.Resize(256), # mantain the ratio of the image\n",
        "    T.CenterCrop(224), # crop the right\n",
        "    T.ToTensor(),\n",
        "])\n",
        "# ========================== How do we deal with this !?! ==========================\n",
        "\n",
        "train_dset = OxfordPetDataset(\n",
        "    split=\"train\",\n",
        "    transform=train_transformer,\n",
        ")\n",
        "val_dset = OxfordPetDataset(\n",
        "    split=\"val\",\n",
        "    transform=test_transformer,\n",
        ")\n",
        "test_dset = OxfordPetDataset(\n",
        "    split=\"test\",\n",
        "    transform=test_transformer,\n",
        ")\n",
        "\n",
        "n_classes = train_dset.get_num_classes()\n",
        "print(f\"Number of classes: {n_classes}\")\n",
        "\n",
        "input_dim = len(train_dset[0][0])\n",
        "print(f\"Input dimension: {input_dim}\")\n",
        "\n",
        "train_subdset = train_dset\n",
        "val_subdset = val_dset\n",
        "\n",
        "print(f\"Number of training samples: {len(train_dset)}\")\n",
        "print(f\"Number of validation samples: {len(val_dset)}\")\n",
        "print(f\"Number of test samples: {len(test_dset)}\")"
      ],
      "metadata": {
        "id": "ux2Khkv7W_ay",
        "outputId": "3675015c-269c-4a8f-ae46-e838f08c2cb7",
        "colab": {
          "base_uri": "https://localhost:8080/"
        }
      },
      "id": "ux2Khkv7W_ay",
      "execution_count": 9,
      "outputs": [
        {
          "output_type": "stream",
          "name": "stdout",
          "text": [
            "Number of classes: 37\n",
            "Input dimension: 3\n",
            "Number of training samples: 3669\n",
            "Number of validation samples: 1834\n",
            "Number of test samples: 1846\n"
          ]
        }
      ]
    },
    {
      "cell_type": "markdown",
      "source": [
        "### Data Visualization"
      ],
      "metadata": {
        "id": "uz2GylTMkOfp"
      },
      "id": "uz2GylTMkOfp"
    },
    {
      "cell_type": "code",
      "source": [
        "_, ax = plt.subplots(1, 4)\n",
        "\n",
        "for i, idx in enumerate([0, 100, 200, 300]):\n",
        "    img, label = test_dset[idx]\n",
        "    ax[i].imshow(img.reshape(3, 224, 224).permute(1, 2, 0))\n",
        "    ax[i].set_title(label)\n",
        "    ax[i].axis(\"off\")"
      ],
      "metadata": {
        "colab": {
          "base_uri": "https://localhost:8080/",
          "height": 188
        },
        "id": "TeZf1hYFkO2j",
        "outputId": "7013bbe4-080f-4ee4-ee20-8acaa1710ddc"
      },
      "id": "TeZf1hYFkO2j",
      "execution_count": 10,
      "outputs": [
        {
          "output_type": "display_data",
          "data": {
            "text/plain": [
              "<Figure size 640x480 with 4 Axes>"
            ],
            "image/png": "[encoded data removed]"
          },
          "metadata": {}
        }
      ]
    },
    {
      "cell_type": "markdown",
      "source": [
        "### Data Loader"
      ],
      "metadata": {
        "id": "yhtjbC1ym73G"
      },
      "id": "yhtjbC1ym73G"
    },
    {
      "cell_type": "code",
      "source": [
        "batch_size = 128\n",
        "\n",
        "train_dl = DataLoader(\n",
        "    train_dset,\n",
        "    batch_size=batch_size,\n",
        "    shuffle=True\n",
        ")\n",
        "val_dl = DataLoader(\n",
        "    val_dset,\n",
        "    batch_size=batch_size\n",
        ")\n",
        "test_dl = DataLoader(\n",
        "    test_dset,\n",
        "    batch_size=batch_size\n",
        ")"
      ],
      "metadata": {
        "id": "6gmg_1Htm7hh"
      },
      "id": "6gmg_1Htm7hh",
      "execution_count": 11,
      "outputs": []
    },
    {
      "cell_type": "markdown",
      "source": [
        "### CNN Architecture"
      ],
      "metadata": {
        "id": "EOh6B4dlnbRw"
      },
      "id": "EOh6B4dlnbRw"
    },
    {
      "cell_type": "code",
      "source": [
        "# --------------------------------------------------\n",
        "# Building Blocks\n",
        "# --------------------------------------------------\n",
        "class BasicBlock(nn.Module):\n",
        "    expansion = 1\n",
        "\n",
        "    def __init__(self, in_channels, out_channels, stride=1, downsample=None):\n",
        "        super(BasicBlock, self).__init__()\n",
        "        self.conv1 = nn.Conv2d(in_channels, out_channels, kernel_size=3, stride=stride,\n",
        "                               padding=1, bias=False)\n",
        "        self.bn1 = nn.BatchNorm2d(out_channels)\n",
        "        self.conv2 = nn.Conv2d(out_channels, out_channels, kernel_size=3, stride=1,\n",
        "                               padding=1, bias=False)\n",
        "        self.bn2 = nn.BatchNorm2d(out_channels)\n",
        "        self.downsample = downsample\n",
        "\n",
        "    def forward(self, x):\n",
        "        identity = x\n",
        "\n",
        "        out = torch.relu(self.bn1(self.conv1(x)))\n",
        "        out = self.bn2(self.conv2(out))\n",
        "\n",
        "        if self.downsample is not None:\n",
        "            identity = self.downsample(x)\n",
        "\n",
        "        out += identity\n",
        "        out = torch.relu(out)\n",
        "        return out\n",
        "\n",
        "\n",
        "class Bottleneck(nn.Module):\n",
        "    expansion = 4\n",
        "\n",
        "    def __init__(self, in_channels, out_channels, stride=1, downsample=None):\n",
        "        super(Bottleneck, self).__init__()\n",
        "        self.conv1 = nn.Conv2d(in_channels, out_channels, kernel_size=1, bias=False)\n",
        "        self.bn1 = nn.BatchNorm2d(out_channels)\n",
        "        self.conv2 = nn.Conv2d(out_channels, out_channels, kernel_size=3, stride=stride,\n",
        "                               padding=1, bias=False)\n",
        "        self.bn2 = nn.BatchNorm2d(out_channels)\n",
        "        self.conv3 = nn.Conv2d(out_channels, out_channels * self.expansion, kernel_size=1, bias=False)\n",
        "        self.bn3 = nn.BatchNorm2d(out_channels * self.expansion)\n",
        "        self.downsample = downsample\n",
        "\n",
        "    def forward(self, x):\n",
        "        identity = x\n",
        "\n",
        "        out = torch.relu(self.bn1(self.conv1(x)))\n",
        "        out = torch.relu(self.bn2(self.conv2(out)))\n",
        "        out = self.bn3(self.conv3(out))\n",
        "\n",
        "        if self.downsample is not None:\n",
        "            identity = self.downsample(x)\n",
        "\n",
        "        out += identity\n",
        "        out = torch.relu(out)\n",
        "        return out\n",
        "\n",
        "\n",
        "# --------------------------------------------------\n",
        "# Generic ResNet\n",
        "# --------------------------------------------------\n",
        "class ResNet(nn.Module):\n",
        "    def __init__(self, block, layers, num_classes=37, input_channels=3, dropout=0.5):\n",
        "        super(ResNet, self).__init__()\n",
        "        self.in_channels = 64\n",
        "\n",
        "        # Initial stem\n",
        "        self.conv1 = nn.Conv2d(input_channels, 64, kernel_size=7, stride=2, padding=3, bias=False)\n",
        "        self.bn1 = nn.BatchNorm2d(64)\n",
        "        self.relu = nn.ReLU(inplace=True)\n",
        "        self.maxpool = nn.MaxPool2d(kernel_size=3, stride=2, padding=1)\n",
        "\n",
        "        # Residual layers\n",
        "        self.layer1 = self._make_layer(block, 64, layers[0])\n",
        "        self.layer2 = self._make_layer(block, 128, layers[1], stride=2)\n",
        "        self.layer3 = self._make_layer(block, 256, layers[2], stride=2)\n",
        "        self.layer4 = self._make_layer(block, 512, layers[3], stride=2)\n",
        "\n",
        "        # Adaptive pooling for variable input size\n",
        "        self.avgpool = nn.AdaptiveAvgPool2d((1, 1))\n",
        "        self.dropout = nn.Dropout(p=dropout)\n",
        "        self.fc = nn.Linear(512 * block.expansion, num_classes)\n",
        "\n",
        "    def _make_layer(self, block, out_channels, blocks, stride=1):\n",
        "        downsample = None\n",
        "        if stride != 1 or self.in_channels != out_channels * block.expansion:\n",
        "            downsample = nn.Sequential(\n",
        "                nn.Conv2d(self.in_channels, out_channels * block.expansion,\n",
        "                          kernel_size=1, stride=stride, bias=False),\n",
        "                nn.BatchNorm2d(out_channels * block.expansion),\n",
        "            )\n",
        "\n",
        "        layers = []\n",
        "        layers.append(block(self.in_channels, out_channels, stride, downsample))\n",
        "        self.in_channels = out_channels * block.expansion\n",
        "\n",
        "        for _ in range(1, blocks):\n",
        "            layers.append(block(self.in_channels, out_channels))\n",
        "\n",
        "        return nn.Sequential(*layers)\n",
        "\n",
        "    def forward(self, x):\n",
        "        x = self.relu(self.bn1(self.conv1(x)))\n",
        "        x = self.maxpool(x)\n",
        "\n",
        "        x = self.layer1(x)\n",
        "        x = self.layer2(x)\n",
        "        x = self.layer3(x)\n",
        "        x = self.layer4(x)\n",
        "\n",
        "        x = self.avgpool(x)\n",
        "        x = torch.flatten(x, 1)\n",
        "        x = self.dropout(x)\n",
        "        x = self.fc(x)\n",
        "\n",
        "        return x\n",
        "\n",
        "\n",
        "# --------------------------------------------------\n",
        "# Factory functions for standard ResNets\n",
        "# --------------------------------------------------\n",
        "def resnet18(num_classes, input_channels=3):\n",
        "    return ResNet(BasicBlock, [2, 2, 2, 2], num_classes, input_channels, dropout=0.5)\n",
        "\n",
        "\n",
        "def resnet34(num_classes, input_channels=3):\n",
        "    return ResNet(BasicBlock, [3, 4, 6, 3], num_classes, input_channels, dropout=0.5)\n",
        "\n",
        "\n",
        "def resnet50(num_classes, input_channels=3):\n",
        "    return ResNet(Bottleneck, [3, 4, 6, 3], num_classes, input_channels, dropout=0.5)\n",
        "\n",
        "\n",
        "def resnet101(num_classes, input_channels=3):\n",
        "    return ResNet(Bottleneck, [3, 4, 23, 3], num_classes, input_channels, dropout=0.5)\n",
        "\n",
        "\n",
        "def resnet152(num_classes, input_channels=3):\n",
        "    return ResNet(Bottleneck, [3, 8, 36, 3], num_classes, input_channels, dropout=0.5)\n"
      ],
      "metadata": {
        "id": "hKAT8S9831yD"
      },
      "id": "hKAT8S9831yD",
      "execution_count": 12,
      "outputs": []
    },
    {
      "cell_type": "markdown",
      "source": [
        "### Create model"
      ],
      "metadata": {
        "id": "bJTBTKblpGUy"
      },
      "id": "bJTBTKblpGUy"
    },
    {
      "cell_type": "code",
      "source": [
        "model = resnet18(num_classes=n_classes)\n",
        "model = model.to(device)"
      ],
      "metadata": {
        "id": "4tA7N3JNojma"
      },
      "id": "4tA7N3JNojma",
      "execution_count": 15,
      "outputs": []
    },
    {
      "cell_type": "markdown",
      "source": [
        "### Optimizer"
      ],
      "metadata": {
        "id": "qTHChQpZpXtD"
      },
      "id": "qTHChQpZpXtD"
    },
    {
      "cell_type": "code",
      "source": [
        "optimizer = Adam(model.parameters())"
      ],
      "metadata": {
        "id": "blmtZ7KPpdGH"
      },
      "id": "blmtZ7KPpdGH",
      "execution_count": 16,
      "outputs": []
    },
    {
      "cell_type": "markdown",
      "source": [
        "### Accuracy and Training loop"
      ],
      "metadata": {
        "id": "sJpUhrDFpog2"
      },
      "id": "sJpUhrDFpog2"
    },
    {
      "cell_type": "code",
      "source": [
        "batch_transforms = v2.Compose([\n",
        "    v2.MixUp(alpha=1.0, num_classes=n_classes),\n",
        "    v2.CutMix(alpha=1.0, num_classes=n_classes),\n",
        "])\n",
        "\n",
        "def ncorrect(scores, y):\n",
        "    y_hat = torch.argmax(scores, -1)\n",
        "    if y.ndim == 2:  # soft labels from MixUp/CutMix\n",
        "        y = torch.argmax(y, -1)\n",
        "    return (y_hat == y).sum()\n",
        "\n",
        "def accuracy(scores, y):\n",
        "    correct = ncorrect(scores, y)\n",
        "    return correct.true_divide(y.shape[0])\n",
        "\n",
        "def train_loop(model,\n",
        "               train_dl,\n",
        "               epochs,\n",
        "               opt,\n",
        "               scheduler=None,\n",
        "               scheduler_batchwise=False,\n",
        "               mixup_and_cutmix=False,\n",
        "               best_model_file_path=\"best_model.pth\",\n",
        "               val_dl=None,\n",
        "               verbose=False):\n",
        "\n",
        "    best_val_acc = 0\n",
        "    best_params = []\n",
        "    best_epoch = -1\n",
        "\n",
        "    history = {\n",
        "        \"train_loss\": [],\n",
        "        \"train_acc\": [],\n",
        "        \"val_loss\": [],\n",
        "        \"val_acc\": []\n",
        "    }\n",
        "\n",
        "    for e in tqdm(range(epochs)):\n",
        "        # ----------[ Training loop ]---------- #\n",
        "        model.train()\n",
        "        train_loss = 0\n",
        "        train_samples = 0\n",
        "        train_acc = 0\n",
        "\n",
        "        for train_data in train_dl:\n",
        "            imgs, labels = train_data[0].to(device), train_data[1].to(device)\n",
        "\n",
        "            if mixup_and_cutmix:\n",
        "              imgs, labels = batch_transforms(imgs, labels)\n",
        "\n",
        "            scores = model(imgs)\n",
        "            loss = F.cross_entropy(scores, labels, label_smoothing=0.1)\n",
        "\n",
        "            train_loss += loss.item() * imgs.shape[0]\n",
        "            train_samples += imgs.shape[0]\n",
        "            train_acc += ncorrect(scores, labels).item()\n",
        "\n",
        "            opt.zero_grad()\n",
        "            loss.backward()\n",
        "            opt.step()\n",
        "\n",
        "            # Step batch-wise scheduler (OneCycle)\n",
        "            if scheduler is not None and scheduler_batchwise:\n",
        "                scheduler.step()\n",
        "\n",
        "        train_acc /= train_samples\n",
        "        train_loss /= train_samples\n",
        "\n",
        "        # ----------[ Validation loop ]---------- #\n",
        "        model.eval()\n",
        "        with torch.no_grad():\n",
        "            val_loss = 0\n",
        "            val_samples = 0\n",
        "            val_acc = 0\n",
        "\n",
        "            if val_dl is not None:\n",
        "                for val_data in val_dl:\n",
        "                    imgs, labels = val_data[0].to(device), val_data[1].to(device)\n",
        "                    val_scores = model(imgs)\n",
        "\n",
        "                    val_loss += F.cross_entropy(val_scores, labels, label_smoothing=0.1).item() * imgs.shape[0]\n",
        "                    val_samples += imgs.shape[0]\n",
        "                    val_acc += ncorrect(val_scores, labels).item()\n",
        "                val_acc /= val_samples\n",
        "                val_loss /= val_samples\n",
        "\n",
        "                # Step epoch-wise scheduler (OnPlateau)\n",
        "                if scheduler is not None and not scheduler_batchwise:\n",
        "                    scheduler.step(val_acc)\n",
        "\n",
        "            if val_dl is None or val_acc > best_val_acc:\n",
        "                best_val_acc = val_acc if val_dl is not None else 0\n",
        "                best_params = model.state_dict()\n",
        "                torch.save(best_params, best_model_file_path)\n",
        "                best_epoch = e\n",
        "\n",
        "        # --- save stats ---\n",
        "        history[\"train_loss\"].append(train_loss)\n",
        "        history[\"train_acc\"].append(train_acc)\n",
        "        if val_dl is not None:\n",
        "            history[\"val_loss\"].append(val_loss)\n",
        "            history[\"val_acc\"].append(val_acc)\n",
        "\n",
        "        if verbose:\n",
        "            print(f\"Epoch {e}: train loss {train_loss:.3f} - train acc {train_acc:.3f}\" +\n",
        "                  (\"\" if val_dl is None else f\" - valid loss {val_loss:.3f} - valid acc {val_acc:.3f}\"))\n",
        "\n",
        "    if verbose and val_dl is not None:\n",
        "        print(f\"Best epoch {best_epoch}, best acc {best_val_acc}\")\n",
        "\n",
        "    return best_val_acc, best_params, best_epoch, history\n",
        "\n"
      ],
      "metadata": {
        "id": "Zk0YLM_Apo04"
      },
      "id": "Zk0YLM_Apo04",
      "execution_count": 17,
      "outputs": []
    },
    {
      "cell_type": "markdown",
      "source": [
        "### Free memory"
      ],
      "metadata": {
        "id": "dF8KPzGOY4vh"
      },
      "id": "dF8KPzGOY4vh"
    },
    {
      "cell_type": "code",
      "source": [
        "import gc\n",
        "\n",
        "torch.cuda.empty_cache()\n",
        "gc.collect()"
      ],
      "metadata": {
        "colab": {
          "base_uri": "https://localhost:8080/"
        },
        "id": "NPKGNgNzZCIL",
        "outputId": "c93b6fc5-694c-4b0c-8e41-5afc699a9c3b"
      },
      "id": "NPKGNgNzZCIL",
      "execution_count": 18,
      "outputs": [
        {
          "output_type": "execute_result",
          "data": {
            "text/plain": [
              "5910"
            ]
          },
          "metadata": {},
          "execution_count": 18
        }
      ]
    },
    {
      "cell_type": "markdown",
      "source": [
        "### Train the network"
      ],
      "metadata": {
        "id": "E7ZJY0qmpyWx"
      },
      "id": "E7ZJY0qmpyWx"
    },
    {
      "cell_type": "code",
      "source": [
        "epochs = 130\n",
        "\n",
        "# Scheduler\n",
        "\n",
        "schedulers = {\n",
        "    'ReduceLROnPlateau': {\n",
        "        'scheduler': ReduceLROnPlateau(\n",
        "            optimizer,\n",
        "            mode=\"max\",\n",
        "            patience=3\n",
        "        ),\n",
        "        'scheduler_batchwise': False\n",
        "    },\n",
        "    'OneCycleLR': {\n",
        "        'scheduler': OneCycleLR(\n",
        "            optimizer,\n",
        "            max_lr=1e-3,                      # peak LR\n",
        "            steps_per_epoch=len(train_dl),    # number of batches per epoch\n",
        "            epochs=epochs,                    # total number of epochs\n",
        "            pct_start=0.3,                    # % of cycle to increase LR (default 30%)\n",
        "            anneal_strategy='cos'             # cosine annealing down\n",
        "        ),\n",
        "        'scheduler_batchwise': True\n",
        "    },\n",
        "    'CosineAnnealingLR': {\n",
        "        'scheduler': CosineAnnealingLR(\n",
        "            optimizer,\n",
        "            T_max=epochs,                     # number of epochs before LR = eta_min\n",
        "            eta_min=1e-6                      # minimum LR\n",
        "        ),\n",
        "        'scheduler_batchwise': False\n",
        "    }\n",
        "}\n",
        "\n",
        "# =========== UNCOMMENT if want to improve an already existing model ===========\n",
        "#model = resnet18(\n",
        "#    num_classes=n_classes\n",
        "#)\n",
        "#model.load_state_dict(torch.load(\"best_model_luca.pth\"))\n",
        "#model = model.to(device)\n",
        "# ==============================================================================\n",
        "\n",
        "# Training\n",
        "best_val_acc, best_params, best_epoch, history = train_loop(\n",
        "    model = model,\n",
        "    train_dl = train_dl,\n",
        "    epochs = epochs,\n",
        "    opt = optimizer,\n",
        "    scheduler = None, #schedulers['ReduceLROnPlateau']['scheduler'],\n",
        "    scheduler_batchwise = None, #schedulers['ReduceLROnPlateau']['scheduler_batchwise'],\n",
        "    mixup_and_cutmix=True,\n",
        "    best_model_file_path=\"best_model_luca2.pth\",\n",
        "    val_dl=val_dl,\n",
        "    verbose=True\n",
        ")"
      ],
      "metadata": {
        "id": "1fBYGEghp0oU",
        "colab": {
          "base_uri": "https://localhost:8080/",
          "height": 1000,
          "referenced_widgets": [
            "3b12b009f2e6440c97f21191511101c7",
            "9c559e491e3041d29f4b7fba40ad05d3",
            "99262ef0f91c4a13ba05f16b8ab0c2cd",
            "c0f7e254b3054a26b415034e6f1c4f8f",
            "f43264091e3b4336abe83b5c153b8fe0",
            "40ff48a882f9488dac3db96c19b71f69",
            "f2472cc46f4e4adda1146e053e3f1cd0",
            "01bd576a0c9f4925825a457a715bce0f",
            "694f7313d4924c58ad4315490fe203e6",
            "a9c70009730b4397abcb495a4a6196a5",
            "45b15f7085fd44829ab7e420ee336331"
          ]
        },
        "outputId": "bbae13ff-9046-4b94-b69d-8cc2a714ad20"
      },
      "id": "1fBYGEghp0oU",
      "execution_count": null,
      "outputs": [
        {
          "output_type": "display_data",
          "data": {
            "text/plain": [
              "  0%|          | 0/130 [00:00<?, ?it/s]"
            ],
            "application/vnd.jupyter.widget-view+json": {
              "version_major": 2,
              "version_minor": 0,
              "model_id": "3b12b009f2e6440c97f21191511101c7"
            }
          },
          "metadata": {}
        },
        {
          "output_type": "stream",
          "name": "stdout",
          "text": [
            "Epoch 0: train loss 3.759 - train acc 0.031 - valid loss 3.853 - valid acc 0.041\n",
            "Epoch 1: train loss 3.671 - train acc 0.043 - valid loss 3.513 - valid acc 0.070\n",
            "Epoch 2: train loss 3.630 - train acc 0.056 - valid loss 3.404 - valid acc 0.091\n",
            "Epoch 3: train loss 3.579 - train acc 0.078 - valid loss 3.381 - valid acc 0.097\n",
            "Epoch 4: train loss 3.577 - train acc 0.069 - valid loss 3.356 - valid acc 0.113\n",
            "Epoch 5: train loss 3.544 - train acc 0.079 - valid loss 3.316 - valid acc 0.116\n",
            "Epoch 6: train loss 3.547 - train acc 0.085 - valid loss 3.301 - valid acc 0.124\n",
            "Epoch 7: train loss 3.512 - train acc 0.083 - valid loss 3.244 - valid acc 0.144\n",
            "Epoch 8: train loss 3.496 - train acc 0.099 - valid loss 3.254 - valid acc 0.130\n",
            "Epoch 9: train loss 3.473 - train acc 0.102 - valid loss 3.208 - valid acc 0.146\n",
            "Epoch 10: train loss 3.465 - train acc 0.112 - valid loss 3.251 - valid acc 0.133\n",
            "Epoch 11: train loss 3.447 - train acc 0.114 - valid loss 3.164 - valid acc 0.161\n",
            "Epoch 12: train loss 3.415 - train acc 0.134 - valid loss 3.199 - valid acc 0.142\n",
            "Epoch 13: train loss 3.426 - train acc 0.134 - valid loss 3.155 - valid acc 0.159\n",
            "Epoch 14: train loss 3.423 - train acc 0.123 - valid loss 3.146 - valid acc 0.165\n",
            "Epoch 15: train loss 3.331 - train acc 0.159 - valid loss 3.117 - valid acc 0.172\n",
            "Epoch 16: train loss 3.405 - train acc 0.138 - valid loss 3.100 - valid acc 0.186\n",
            "Epoch 17: train loss 3.368 - train acc 0.146 - valid loss 3.045 - valid acc 0.201\n",
            "Epoch 18: train loss 3.352 - train acc 0.170 - valid loss 3.058 - valid acc 0.190\n",
            "Epoch 19: train loss 3.379 - train acc 0.150 - valid loss 3.071 - valid acc 0.196\n",
            "Epoch 20: train loss 3.359 - train acc 0.169 - valid loss 3.008 - valid acc 0.210\n",
            "Epoch 21: train loss 3.298 - train acc 0.183 - valid loss 3.018 - valid acc 0.211\n",
            "Epoch 22: train loss 3.312 - train acc 0.182 - valid loss 3.060 - valid acc 0.188\n",
            "Epoch 23: train loss 3.270 - train acc 0.192 - valid loss 2.945 - valid acc 0.236\n",
            "Epoch 24: train loss 3.268 - train acc 0.202 - valid loss 2.964 - valid acc 0.218\n",
            "Epoch 25: train loss 3.235 - train acc 0.212 - valid loss 2.907 - valid acc 0.240\n",
            "Epoch 26: train loss 3.272 - train acc 0.200 - valid loss 2.977 - valid acc 0.208\n",
            "Epoch 27: train loss 3.251 - train acc 0.214 - valid loss 2.898 - valid acc 0.249\n",
            "Epoch 28: train loss 3.247 - train acc 0.212 - valid loss 2.883 - valid acc 0.248\n",
            "Epoch 29: train loss 3.246 - train acc 0.211 - valid loss 2.924 - valid acc 0.232\n",
            "Epoch 30: train loss 3.217 - train acc 0.228 - valid loss 2.886 - valid acc 0.231\n",
            "Epoch 31: train loss 3.261 - train acc 0.209 - valid loss 2.960 - valid acc 0.222\n",
            "Epoch 32: train loss 3.247 - train acc 0.211 - valid loss 2.987 - valid acc 0.222\n",
            "Epoch 33: train loss 3.234 - train acc 0.214 - valid loss 2.926 - valid acc 0.251\n",
            "Epoch 34: train loss 3.209 - train acc 0.223 - valid loss 2.828 - valid acc 0.268\n",
            "Epoch 35: train loss 3.145 - train acc 0.253 - valid loss 2.791 - valid acc 0.264\n",
            "Epoch 36: train loss 3.199 - train acc 0.239 - valid loss 2.882 - valid acc 0.245\n",
            "Epoch 37: train loss 3.201 - train acc 0.243 - valid loss 2.845 - valid acc 0.258\n",
            "Epoch 38: train loss 3.183 - train acc 0.251 - valid loss 2.843 - valid acc 0.256\n",
            "Epoch 39: train loss 3.196 - train acc 0.234 - valid loss 2.727 - valid acc 0.300\n",
            "Epoch 40: train loss 3.130 - train acc 0.286 - valid loss 2.743 - valid acc 0.296\n",
            "Epoch 41: train loss 3.153 - train acc 0.258 - valid loss 2.869 - valid acc 0.255\n",
            "Epoch 42: train loss 3.118 - train acc 0.273 - valid loss 2.845 - valid acc 0.273\n",
            "Epoch 43: train loss 3.150 - train acc 0.270 - valid loss 2.744 - valid acc 0.303\n",
            "Epoch 44: train loss 3.112 - train acc 0.274 - valid loss 2.802 - valid acc 0.290\n",
            "Epoch 45: train loss 3.148 - train acc 0.262 - valid loss 2.765 - valid acc 0.298\n",
            "Epoch 46: train loss 3.098 - train acc 0.291 - valid loss 2.683 - valid acc 0.322\n",
            "Epoch 47: train loss 3.087 - train acc 0.302 - valid loss 2.754 - valid acc 0.291\n",
            "Epoch 48: train loss 3.113 - train acc 0.294 - valid loss 2.671 - valid acc 0.318\n",
            "Epoch 49: train loss 3.075 - train acc 0.301 - valid loss 2.732 - valid acc 0.297\n",
            "Epoch 50: train loss 3.079 - train acc 0.307 - valid loss 2.736 - valid acc 0.308\n",
            "Epoch 51: train loss 3.102 - train acc 0.300 - valid loss 2.834 - valid acc 0.271\n",
            "Epoch 52: train loss 3.089 - train acc 0.277 - valid loss 2.729 - valid acc 0.302\n",
            "Epoch 53: train loss 3.093 - train acc 0.291 - valid loss 2.797 - valid acc 0.287\n",
            "Epoch 54: train loss 3.075 - train acc 0.280 - valid loss 2.716 - valid acc 0.307\n",
            "Epoch 55: train loss 3.032 - train acc 0.308 - valid loss 2.661 - valid acc 0.336\n",
            "Epoch 56: train loss 2.981 - train acc 0.354 - valid loss 2.606 - valid acc 0.347\n",
            "Epoch 57: train loss 3.054 - train acc 0.327 - valid loss 2.630 - valid acc 0.345\n",
            "Epoch 58: train loss 3.056 - train acc 0.310 - valid loss 2.676 - valid acc 0.333\n",
            "Epoch 59: train loss 2.914 - train acc 0.375 - valid loss 2.620 - valid acc 0.347\n",
            "Epoch 60: train loss 3.028 - train acc 0.349 - valid loss 2.750 - valid acc 0.306\n",
            "Epoch 61: train loss 3.004 - train acc 0.369 - valid loss 2.655 - valid acc 0.330\n",
            "Epoch 62: train loss 2.995 - train acc 0.344 - valid loss 2.602 - valid acc 0.352\n",
            "Epoch 63: train loss 2.933 - train acc 0.389 - valid loss 2.683 - valid acc 0.330\n",
            "Epoch 64: train loss 2.941 - train acc 0.367 - valid loss 2.499 - valid acc 0.381\n",
            "Epoch 65: train loss 2.936 - train acc 0.382 - valid loss 2.635 - valid acc 0.359\n",
            "Epoch 66: train loss 3.040 - train acc 0.333 - valid loss 2.580 - valid acc 0.361\n",
            "Epoch 67: train loss 2.932 - train acc 0.407 - valid loss 2.540 - valid acc 0.368\n",
            "Epoch 68: train loss 2.962 - train acc 0.343 - valid loss 2.692 - valid acc 0.332\n",
            "Epoch 69: train loss 2.988 - train acc 0.355 - valid loss 2.694 - valid acc 0.324\n",
            "Epoch 70: train loss 2.974 - train acc 0.370 - valid loss 2.576 - valid acc 0.353\n",
            "Epoch 71: train loss 2.888 - train acc 0.417 - valid loss 2.651 - valid acc 0.324\n",
            "Epoch 72: train loss 2.777 - train acc 0.451 - valid loss 2.483 - valid acc 0.393\n",
            "Epoch 73: train loss 2.914 - train acc 0.386 - valid loss 2.600 - valid acc 0.347\n",
            "Epoch 74: train loss 2.910 - train acc 0.419 - valid loss 2.547 - valid acc 0.369\n",
            "Epoch 75: train loss 2.950 - train acc 0.379 - valid loss 2.524 - valid acc 0.384\n",
            "Epoch 76: train loss 2.928 - train acc 0.379 - valid loss 2.634 - valid acc 0.355\n",
            "Epoch 77: train loss 2.960 - train acc 0.365 - valid loss 2.529 - valid acc 0.378\n",
            "Epoch 78: train loss 2.933 - train acc 0.413 - valid loss 2.562 - valid acc 0.362\n",
            "Epoch 79: train loss 2.923 - train acc 0.397 - valid loss 2.584 - valid acc 0.358\n",
            "Epoch 80: train loss 2.884 - train acc 0.406 - valid loss 2.531 - valid acc 0.382\n",
            "Epoch 81: train loss 2.831 - train acc 0.438 - valid loss 2.477 - valid acc 0.390\n",
            "Epoch 82: train loss 2.821 - train acc 0.436 - valid loss 2.575 - valid acc 0.358\n",
            "Epoch 83: train loss 2.798 - train acc 0.428 - valid loss 2.471 - valid acc 0.396\n",
            "Epoch 84: train loss 2.997 - train acc 0.356 - valid loss 2.645 - valid acc 0.354\n",
            "Epoch 85: train loss 2.851 - train acc 0.430 - valid loss 2.513 - valid acc 0.383\n",
            "Epoch 86: train loss 2.852 - train acc 0.425 - valid loss 2.546 - valid acc 0.375\n",
            "Epoch 87: train loss 2.790 - train acc 0.490 - valid loss 2.526 - valid acc 0.391\n",
            "Epoch 88: train loss 2.789 - train acc 0.458 - valid loss 2.437 - valid acc 0.429\n",
            "Epoch 89: train loss 2.829 - train acc 0.468 - valid loss 2.541 - valid acc 0.378\n"
          ]
        }
      ]
    },
    {
      "cell_type": "markdown",
      "source": [
        "### Plot the history"
      ],
      "metadata": {
        "id": "wr_L_Rg2W3OB"
      },
      "id": "wr_L_Rg2W3OB"
    },
    {
      "cell_type": "code",
      "source": [
        "def plot_history(history):\n",
        "\n",
        "  fig, axes = plt.subplots(1, 2, figsize=(10,4))\n",
        "\n",
        "  # Loss\n",
        "  axes[0].plot(history[\"train_loss\"], label=\"train\")\n",
        "  if history[\"val_loss\"]:\n",
        "      axes[0].plot(history[\"val_loss\"], label=\"val\")\n",
        "  axes[0].set_title(\"Loss\")\n",
        "  axes[0].legend()\n",
        "\n",
        "  # Accuracy\n",
        "  axes[1].plot(history[\"train_acc\"], label=\"train\")\n",
        "  if history[\"val_acc\"]:\n",
        "      axes[1].plot(history[\"val_acc\"], label=\"val\")\n",
        "  axes[1].set_title(\"Accuracy\")\n",
        "  axes[1].legend()\n",
        "\n",
        "  plt.tight_layout()\n",
        "  plt.show()\n",
        "\n",
        "plot_history(history=history)"
      ],
      "metadata": {
        "id": "2r4FgGtiW7xr",
        "outputId": "6536a2da-1218-4e1a-9bdc-3a8b011325fb",
        "colab": {
          "base_uri": "https://localhost:8080/",
          "height": 192
        }
      },
      "id": "2r4FgGtiW7xr",
      "execution_count": 19,
      "outputs": [
        {
          "output_type": "error",
          "ename": "NameError",
          "evalue": "name 'history' is not defined",
          "traceback": [
            "\u001b[0;31m---------------------------------------------------------------------------\u001b[0m",
            "\u001b[0;31mNameError\u001b[0m                                 Traceback (most recent call last)",
            "\u001b[0;32m/tmp/ipython-input-2294296939.py\u001b[0m in \u001b[0;36m<cell line: 0>\u001b[0;34m()\u001b[0m\n\u001b[1;32m     20\u001b[0m   \u001b[0mplt\u001b[0m\u001b[0;34m.\u001b[0m\u001b[0mshow\u001b[0m\u001b[0;34m(\u001b[0m\u001b[0;34m)\u001b[0m\u001b[0;34m\u001b[0m\u001b[0;34m\u001b[0m\u001b[0m\n\u001b[1;32m     21\u001b[0m \u001b[0;34m\u001b[0m\u001b[0m\n\u001b[0;32m---> 22\u001b[0;31m \u001b[0mplot_history\u001b[0m\u001b[0;34m(\u001b[0m\u001b[0mhistory\u001b[0m\u001b[0;34m=\u001b[0m\u001b[0mhistory\u001b[0m\u001b[0;34m)\u001b[0m\u001b[0;34m\u001b[0m\u001b[0;34m\u001b[0m\u001b[0m\n\u001b[0m",
            "\u001b[0;31mNameError\u001b[0m: name 'history' is not defined"
          ]
        }
      ]
    },
    {
      "cell_type": "markdown",
      "source": [
        "### Load the model"
      ],
      "metadata": {
        "id": "4jSQlWZ7Zte_"
      },
      "id": "4jSQlWZ7Zte_"
    },
    {
      "cell_type": "code",
      "source": [
        "# Load state dict from the disk (make sure it is the same name as above)\n",
        "state_dict = torch.load(\"best_model_luca2.pth\")\n",
        "\n",
        "# Create a new model and load the state dict\n",
        "new_model = model = resnet18(\n",
        "    num_classes=n_classes\n",
        ")\n",
        "\n",
        "# Load the model and send the model wheight to the device\n",
        "new_model.load_state_dict(state_dict)\n",
        "new_model = new_model.to(device)"
      ],
      "metadata": {
        "id": "tNrPauKMZwut"
      },
      "id": "tNrPauKMZwut",
      "execution_count": null,
      "outputs": []
    },
    {
      "cell_type": "markdown",
      "source": [
        "### Evaluation of the model"
      ],
      "metadata": {
        "id": "fKmK-GR7aEG5"
      },
      "id": "fKmK-GR7aEG5"
    },
    {
      "cell_type": "code",
      "source": [
        "# Evaluate the model using the test set\n",
        "new_model.eval()\n",
        "confusion_matrix = torch.zeros(n_classes, n_classes, dtype=torch.int)\n",
        "\n",
        "with torch.no_grad():\n",
        "    for test_data in test_dl:\n",
        "        imgs, labels = test_data\n",
        "        imgs = imgs.to(device)\n",
        "        labels = labels.to(device)\n",
        "\n",
        "        scores = new_model(imgs)\n",
        "        preds = torch.argmax(scores, -1)\n",
        "        ''' scores is a tensor of shape [batch_size, n_classes].\n",
        "            torch.argmax(scores, -1) returns the index of the maximum score along the last dimension (class dimension).\n",
        "            So preds is a tensor of shape [batch_size], containing the predicted class index for each sample in the batch. '''\n",
        "\n",
        "        for lbl, pred in zip(labels.view(-1), preds.view(-1)): #iterate over both labels and predictions\n",
        "                confusion_matrix[lbl.int(), pred.int()] += 1   #e.g. If the true label is 2 and the model predicted 0, it adds 1 to confusion_matrix[2, 0].\n",
        "\n",
        "test_acc = (torch.diagonal(confusion_matrix).sum() / confusion_matrix.sum()).item()\n",
        "print(test_acc)"
      ],
      "metadata": {
        "id": "3HcnH1ytaMgj"
      },
      "id": "3HcnH1ytaMgj",
      "execution_count": null,
      "outputs": []
    },
    {
      "cell_type": "markdown",
      "source": [
        "### Ablation studies"
      ],
      "metadata": {
        "id": "IDL6YTMsBach"
      },
      "id": "IDL6YTMsBach"
    },
    {
      "cell_type": "code",
      "source": [
        "def evaluate_model(model_params,\n",
        "                   train_dl,\n",
        "                   val_dl,\n",
        "                   test_dl,\n",
        "                   epochs,\n",
        "                   optimizer,\n",
        "                   scheduler,\n",
        "                   scheduler_batchwise,\n",
        "                   verbose):\n",
        "\n",
        "  # Create the model\n",
        "  model = ResNet(model_params['block_type'],\n",
        "                 model_params['block_depths'],\n",
        "                 model_params['num_classes'],\n",
        "                 model_params['input_channels'],\n",
        "                 model_params['dropout'])\n",
        "  model = model.to(device)\n",
        "\n",
        "  # Train the model\n",
        "  best_val_acc, best_params, best_epoch, history = train_loop(\n",
        "      model = model,\n",
        "      train_dl = train_dl,\n",
        "      epochs = epochs,\n",
        "      opt = optimizer,\n",
        "      scheduler = scheduler,\n",
        "      scheduler_batchwise = scheduler_batchwise,\n",
        "      best_model_file_path=\"best_model.pth\",\n",
        "      val_dl=val_dl,\n",
        "      verbose=verbose)\n",
        "\n",
        "  # Load the model\n",
        "  state_dict = torch.load(\"best_model.pth\")\n",
        "\n",
        "  # Create a new model and load the state dict\n",
        "  new_model = model = ResNet(model_params['block_type'],\n",
        "                             model_params['block_depths'],\n",
        "                             model_params['num_classes'],\n",
        "                             model_params['input_channels'],\n",
        "                             model_params['dropout'])\n",
        "\n",
        "  # Load the model and send the model wheight to the device\n",
        "  new_model.load_state_dict(state_dict)\n",
        "  new_model = new_model.to(device)\n",
        "\n",
        "  # Evaluate the model\n",
        "  new_model.eval()\n",
        "  confusion_matrix = torch.zeros(model_params['num_classes'], model_params['num_classes'], dtype=torch.int)\n",
        "\n",
        "  with torch.no_grad():\n",
        "      for test_data in test_dl:\n",
        "          imgs, labels = test_data\n",
        "          imgs = imgs.to(device)\n",
        "          labels = labels.to(device)\n",
        "\n",
        "          scores = new_model(imgs)\n",
        "          preds = torch.argmax(scores, -1)\n",
        "          ''' scores is a tensor of shape [batch_size, n_classes].\n",
        "              torch.argmax(scores, -1) returns the index of the maximum score along the last dimension (class dimension).\n",
        "              So preds is a tensor of shape [batch_size], containing the predicted class index for each sample in the batch. '''\n",
        "\n",
        "          for lbl, pred in zip(labels.view(-1), preds.view(-1)): #iterate over both labels and predictions\n",
        "                  confusion_matrix[lbl.int(), pred.int()] += 1   #e.g. If the true label is 2 and the model predicted 0, it adds 1 to confusion_matrix[2, 0].\n",
        "\n",
        "  test_acc = (torch.diagonal(confusion_matrix).sum() / confusion_matrix.sum()).item()\n",
        "\n",
        "  # Return results\n",
        "  return test_acc, history\n"
      ],
      "metadata": {
        "id": "z7jsAbMJBhRv"
      },
      "id": "z7jsAbMJBhRv",
      "execution_count": 20,
      "outputs": []
    },
    {
      "cell_type": "markdown",
      "source": [
        "### Model A (best)\n",
        "\n",
        "Architecture:\n",
        "- resnet18\n",
        "- bottleneck blocks\n",
        "- dropout\n",
        "\n",
        "Training recipes:\n",
        "- trivial augmentation\n",
        "- long training\n",
        "- lr scheduler (cosine annealing)\n",
        "- mixup\n",
        "- cutmix\n",
        "- image resizing\n",
        "- ADAM optimizer"
      ],
      "metadata": {
        "id": "1hqPkNAAGzux"
      },
      "id": "1hqPkNAAGzux"
    },
    {
      "cell_type": "code",
      "source": [
        "# --- Transform for Data Augmentation and Img Resizing ---\n",
        "\n",
        "train_transformer_A = T.Compose([\n",
        "    # RANDOM CROP RESIZE\n",
        "    T.RandomResizedCrop(224, scale=(0.8, 1.0)),\n",
        "    # TRIVIAL AUGMENTATION\n",
        "    T.RandomHorizontalFlip(),\n",
        "    T.ToTensor(),\n",
        "    # RANDOM ERASING\n",
        "    T.ConvertImageDtype(torch.float),\n",
        "    T.RandomErasing(p=0.5, scale=(0.02, 0.33), ratio=(0.3, 3.3), value=0, inplace=False),\n",
        "])\n",
        "\n",
        "test_transformer_A = T.Compose([\n",
        "    # RESIZE\n",
        "    T.Resize(256),\n",
        "    # CENTER CROP\n",
        "    T.CenterCrop(224),\n",
        "    T.ToTensor(),\n",
        "])\n",
        "\n",
        "# --- Datasets ---\n",
        "\n",
        "train_dset_A = OxfordPetDataset(\n",
        "    split=\"train\",\n",
        "    transform=train_transformer,\n",
        ")\n",
        "val_dset_A = OxfordPetDataset(\n",
        "    split=\"val\",\n",
        "    transform=test_transformer,\n",
        ")\n",
        "test_dset_A = OxfordPetDataset(\n",
        "    split=\"test\",\n",
        "    transform=test_transformer,\n",
        ")\n",
        "\n",
        "# --- Data Loaders ---\n",
        "\n",
        "batch_size = 128\n",
        "\n",
        "train_dl_A = DataLoader(\n",
        "    train_dset,\n",
        "    batch_size=batch_size,\n",
        "    shuffle=True\n",
        ")\n",
        "val_dl_A = DataLoader(\n",
        "    val_dset,\n",
        "    batch_size=batch_size\n",
        ")\n",
        "test_dl_A = DataLoader(\n",
        "    test_dset,\n",
        "    batch_size=batch_size\n",
        ")\n",
        "\n",
        "# --- Model Architecture ---\n",
        "\n",
        "n_classes = train_dset.get_num_classes()\n",
        "\n",
        "model_params_A = {\n",
        "    'block_type': Bottleneck,\n",
        "    'block_depths': [2, 2, 2, 2],\n",
        "    'num_classes': n_classes,\n",
        "    'input_channels': 3,\n",
        "    'dropout': 0.5\n",
        "}\n",
        "\n",
        "# --- Optimizer ---\n",
        "\n",
        "optimizer_A = Adam(model.parameters())\n",
        "\n",
        "# --- Scheduler ---\n",
        "\n",
        "scheduler_A = CosineAnnealingLR(\n",
        "            optimizer,\n",
        "            T_max=epochs,                     # number of epochs before LR = eta_min\n",
        "            eta_min=1e-6                      # minimum LR\n",
        "        )\n",
        "scheduler_batchwise_A = False\n",
        "\n",
        "# --- Epochs ---\n",
        "\n",
        "epochs_A = 130\n",
        "\n",
        "# --- Training + Evaluation ---\n",
        "\n",
        "test_acc_A, history_A = evaluate_model(\n",
        "    model_params=model_params_A,\n",
        "    train_dl=train_dl_A,\n",
        "    val_dl=val_dl_A,\n",
        "    test_dl=test_dl_A,\n",
        "    epochs=epochs_A,\n",
        "    optimizer=optimizer_A,\n",
        "    scheduler=scheduler_A,\n",
        "    scheduler_batchwise=scheduler_batchwise_A,\n",
        "    verbose=True\n",
        ")\n",
        "\n",
        "# --- Results ---\n",
        "\n",
        "print(f'Accuracy of model A on the test set: {test_acc_A}')\n",
        "plot_history(history_A)\n"
      ],
      "metadata": {
        "id": "n9fUV-UtGx9z"
      },
      "id": "n9fUV-UtGx9z",
      "execution_count": null,
      "outputs": []
    },
    {
      "cell_type": "markdown",
      "id": "192fb2ce",
      "metadata": {
        "id": "192fb2ce"
      },
      "source": [
        "## Part 2: fine-tune an existing network\n",
        "\n",
        "Your goal is to fine-tune a pretrained ResNet-18 model on `OxfordPetDataset`. Use the implementation provided by PyTorch, i.e. the opposite of part 1. Specifically, use the PyTorch ResNet-18 model pretrained on ImageNet-1K (V1). Divide your fine-tuning into two parts:\n",
        "\n",
        "2A. First, fine-tune the ResNet-18 with the same training hyperparameters you used for your best model in part 1.\n",
        "\n",
        "2B. Then, tweak the training hyperparameters in order to increase the accuracy on the test split. Justify your choices by analyzing the training plots and/or citing sources that guided you in your decisions — papers, blog posts, YouTube videos, or whatever else you may find useful. You should consider yourselves satisfied once you obtain a classification accuracy on the test split of ~90%."
      ]
    }
  ],
  "metadata": {
    "kernelspec": {
      "display_name": "Python 3",
      "name": "python3"
    },
    "language_info": {
      "codemirror_mode": {
        "name": "ipython",
        "version": 3
      },
      "file_extension": ".py",
      "mimetype": "text/x-python",
      "name": "python",
      "nbconvert_exporter": "python",
      "pygments_lexer": "ipython3",
      "version": "3.8.16"
    },
    "colab": {
      "provenance": [],
      "gpuType": "T4"
    },
    "accelerator": "GPU",
    "widgets": {
      "application/vnd.jupyter.widget-state+json": {
        "3b12b009f2e6440c97f21191511101c7": {
          "model_module": "@jupyter-widgets/controls",
          "model_name": "HBoxModel",
          "model_module_version": "1.5.0",
          "state": {
            "_dom_classes": [],
            "_model_module": "@jupyter-widgets/controls",
            "_model_module_version": "1.5.0",
            "_model_name": "HBoxModel",
            "_view_count": null,
            "_view_module": "@jupyter-widgets/controls",
            "_view_module_version": "1.5.0",
            "_view_name": "HBoxView",
            "box_style": "",
            "children": [
              "IPY_MODEL_9c559e491e3041d29f4b7fba40ad05d3",
              "IPY_MODEL_99262ef0f91c4a13ba05f16b8ab0c2cd",
              "IPY_MODEL_c0f7e254b3054a26b415034e6f1c4f8f"
            ],
            "layout": "IPY_MODEL_f43264091e3b4336abe83b5c153b8fe0"
          }
        },
        "9c559e491e3041d29f4b7fba40ad05d3": {
          "model_module": "@jupyter-widgets/controls",
          "model_name": "HTMLModel",
          "model_module_version": "1.5.0",
          "state": {
            "_dom_classes": [],
            "_model_module": "@jupyter-widgets/controls",
            "_model_module_version": "1.5.0",
            "_model_name": "HTMLModel",
            "_view_count": null,
            "_view_module": "@jupyter-widgets/controls",
            "_view_module_version": "1.5.0",
            "_view_name": "HTMLView",
            "description": "",
            "description_tooltip": null,
            "layout": "IPY_MODEL_40ff48a882f9488dac3db96c19b71f69",
            "placeholder": "​",
            "style": "IPY_MODEL_f2472cc46f4e4adda1146e053e3f1cd0",
            "value": " 69%"
          }
        },
        "99262ef0f91c4a13ba05f16b8ab0c2cd": {
          "model_module": "@jupyter-widgets/controls",
          "model_name": "FloatProgressModel",
          "model_module_version": "1.5.0",
          "state": {
            "_dom_classes": [],
            "_model_module": "@jupyter-widgets/controls",
            "_model_module_version": "1.5.0",
            "_model_name": "FloatProgressModel",
            "_view_count": null,
            "_view_module": "@jupyter-widgets/controls",
            "_view_module_version": "1.5.0",
            "_view_name": "ProgressView",
            "bar_style": "",
            "description": "",
            "description_tooltip": null,
            "layout": "IPY_MODEL_01bd576a0c9f4925825a457a715bce0f",
            "max": 130,
            "min": 0,
            "orientation": "horizontal",
            "style": "IPY_MODEL_694f7313d4924c58ad4315490fe203e6",
            "value": 90
          }
        },
        "c0f7e254b3054a26b415034e6f1c4f8f": {
          "model_module": "@jupyter-widgets/controls",
          "model_name": "HTMLModel",
          "model_module_version": "1.5.0",
          "state": {
            "_dom_classes": [],
            "_model_module": "@jupyter-widgets/controls",
            "_model_module_version": "1.5.0",
            "_model_name": "HTMLModel",
            "_view_count": null,
            "_view_module": "@jupyter-widgets/controls",
            "_view_module_version": "1.5.0",
            "_view_name": "HTMLView",
            "description": "",
            "description_tooltip": null,
            "layout": "IPY_MODEL_a9c70009730b4397abcb495a4a6196a5",
            "placeholder": "​",
            "style": "IPY_MODEL_45b15f7085fd44829ab7e420ee336331",
            "value": " 90/130 [52:37&lt;23:12, 34.82s/it]"
          }
        },
        "f43264091e3b4336abe83b5c153b8fe0": {
          "model_module": "@jupyter-widgets/base",
          "model_name": "LayoutModel",
          "model_module_version": "1.2.0",
          "state": {
            "_model_module": "@jupyter-widgets/base",
            "_model_module_version": "1.2.0",
            "_model_name": "LayoutModel",
            "_view_count": null,
            "_view_module": "@jupyter-widgets/base",
            "_view_module_version": "1.2.0",
            "_view_name": "LayoutView",
            "align_content": null,
            "align_items": null,
            "align_self": null,
            "border": null,
            "bottom": null,
            "display": null,
            "flex": null,
            "flex_flow": null,
            "grid_area": null,
            "grid_auto_columns": null,
            "grid_auto_flow": null,
            "grid_auto_rows": null,
            "grid_column": null,
            "grid_gap": null,
            "grid_row": null,
            "grid_template_areas": null,
            "grid_template_columns": null,
            "grid_template_rows": null,
            "height": null,
            "justify_content": null,
            "justify_items": null,
            "left": null,
            "margin": null,
            "max_height": null,
            "max_width": null,
            "min_height": null,
            "min_width": null,
            "object_fit": null,
            "object_position": null,
            "order": null,
            "overflow": null,
            "overflow_x": null,
            "overflow_y": null,
            "padding": null,
            "right": null,
            "top": null,
            "visibility": null,
            "width": null
          }
        },
        "40ff48a882f9488dac3db96c19b71f69": {
          "model_module": "@jupyter-widgets/base",
          "model_name": "LayoutModel",
          "model_module_version": "1.2.0",
          "state": {
            "_model_module": "@jupyter-widgets/base",
            "_model_module_version": "1.2.0",
            "_model_name": "LayoutModel",
            "_view_count": null,
            "_view_module": "@jupyter-widgets/base",
            "_view_module_version": "1.2.0",
            "_view_name": "LayoutView",
            "align_content": null,
            "align_items": null,
            "align_self": null,
            "border": null,
            "bottom": null,
            "display": null,
            "flex": null,
            "flex_flow": null,
            "grid_area": null,
            "grid_auto_columns": null,
            "grid_auto_flow": null,
            "grid_auto_rows": null,
            "grid_column": null,
            "grid_gap": null,
            "grid_row": null,
            "grid_template_areas": null,
            "grid_template_columns": null,
            "grid_template_rows": null,
            "height": null,
            "justify_content": null,
            "justify_items": null,
            "left": null,
            "margin": null,
            "max_height": null,
            "max_width": null,
            "min_height": null,
            "min_width": null,
            "object_fit": null,
            "object_position": null,
            "order": null,
            "overflow": null,
            "overflow_x": null,
            "overflow_y": null,
            "padding": null,
            "right": null,
            "top": null,
            "visibility": null,
            "width": null
          }
        },
        "f2472cc46f4e4adda1146e053e3f1cd0": {
          "model_module": "@jupyter-widgets/controls",
          "model_name": "DescriptionStyleModel",
          "model_module_version": "1.5.0",
          "state": {
            "_model_module": "@jupyter-widgets/controls",
            "_model_module_version": "1.5.0",
            "_model_name": "DescriptionStyleModel",
            "_view_count": null,
            "_view_module": "@jupyter-widgets/base",
            "_view_module_version": "1.2.0",
            "_view_name": "StyleView",
            "description_width": ""
          }
        },
        "01bd576a0c9f4925825a457a715bce0f": {
          "model_module": "@jupyter-widgets/base",
          "model_name": "LayoutModel",
          "model_module_version": "1.2.0",
          "state": {
            "_model_module": "@jupyter-widgets/base",
            "_model_module_version": "1.2.0",
            "_model_name": "LayoutModel",
            "_view_count": null,
            "_view_module": "@jupyter-widgets/base",
            "_view_module_version": "1.2.0",
            "_view_name": "LayoutView",
            "align_content": null,
            "align_items": null,
            "align_self": null,
            "border": null,
            "bottom": null,
            "display": null,
            "flex": null,
            "flex_flow": null,
            "grid_area": null,
            "grid_auto_columns": null,
            "grid_auto_flow": null,
            "grid_auto_rows": null,
            "grid_column": null,
            "grid_gap": null,
            "grid_row": null,
            "grid_template_areas": null,
            "grid_template_columns": null,
            "grid_template_rows": null,
            "height": null,
            "justify_content": null,
            "justify_items": null,
            "left": null,
            "margin": null,
            "max_height": null,
            "max_width": null,
            "min_height": null,
            "min_width": null,
            "object_fit": null,
            "object_position": null,
            "order": null,
            "overflow": null,
            "overflow_x": null,
            "overflow_y": null,
            "padding": null,
            "right": null,
            "top": null,
            "visibility": null,
            "width": null
          }
        },
        "694f7313d4924c58ad4315490fe203e6": {
          "model_module": "@jupyter-widgets/controls",
          "model_name": "ProgressStyleModel",
          "model_module_version": "1.5.0",
          "state": {
            "_model_module": "@jupyter-widgets/controls",
            "_model_module_version": "1.5.0",
            "_model_name": "ProgressStyleModel",
            "_view_count": null,
            "_view_module": "@jupyter-widgets/base",
            "_view_module_version": "1.2.0",
            "_view_name": "StyleView",
            "bar_color": null,
            "description_width": ""
          }
        },
        "a9c70009730b4397abcb495a4a6196a5": {
          "model_module": "@jupyter-widgets/base",
          "model_name": "LayoutModel",
          "model_module_version": "1.2.0",
          "state": {
            "_model_module": "@jupyter-widgets/base",
            "_model_module_version": "1.2.0",
            "_model_name": "LayoutModel",
            "_view_count": null,
            "_view_module": "@jupyter-widgets/base",
            "_view_module_version": "1.2.0",
            "_view_name": "LayoutView",
            "align_content": null,
            "align_items": null,
            "align_self": null,
            "border": null,
            "bottom": null,
            "display": null,
            "flex": null,
            "flex_flow": null,
            "grid_area": null,
            "grid_auto_columns": null,
            "grid_auto_flow": null,
            "grid_auto_rows": null,
            "grid_column": null,
            "grid_gap": null,
            "grid_row": null,
            "grid_template_areas": null,
            "grid_template_columns": null,
            "grid_template_rows": null,
            "height": null,
            "justify_content": null,
            "justify_items": null,
            "left": null,
            "margin": null,
            "max_height": null,
            "max_width": null,
            "min_height": null,
            "min_width": null,
            "object_fit": null,
            "object_position": null,
            "order": null,
            "overflow": null,
            "overflow_x": null,
            "overflow_y": null,
            "padding": null,
            "right": null,
            "top": null,
            "visibility": null,
            "width": null
          }
        },
        "45b15f7085fd44829ab7e420ee336331": {
          "model_module": "@jupyter-widgets/controls",
          "model_name": "DescriptionStyleModel",
          "model_module_version": "1.5.0",
          "state": {
            "_model_module": "@jupyter-widgets/controls",
            "_model_module_version": "1.5.0",
            "_model_name": "DescriptionStyleModel",
            "_view_count": null,
            "_view_module": "@jupyter-widgets/base",
            "_view_module_version": "1.2.0",
            "_view_name": "StyleView",
            "description_width": ""
          }
        }
      }
    }
  },
  "nbformat": 4,
  "nbformat_minor": 5
}